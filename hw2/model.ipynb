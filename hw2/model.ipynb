{
 "cells": [
  {
   "cell_type": "code",
   "execution_count": 420,
   "metadata": {},
   "outputs": [],
   "source": [
    "import os\n",
    "import pandas as pd\n",
    "import seaborn as sns\n",
    "import numpy as np\n",
    "import statsmodels.api as sm\n",
    "import matplotlib\n",
    "import matplotlib.pyplot as plt\n",
    "\n",
    "%matplotlib inline"
   ]
  },
  {
   "cell_type": "markdown",
   "metadata": {},
   "source": [
    "# get data"
   ]
  },
  {
   "cell_type": "code",
   "execution_count": 421,
   "metadata": {},
   "outputs": [],
   "source": [
    "datapath = r\"./data/\""
   ]
  },
  {
   "cell_type": "code",
   "execution_count": 422,
   "metadata": {},
   "outputs": [],
   "source": [
    "data = pd.read_csv(os.path.join(datapath,'RendimentoEscolar2000-2015.csv')) #, encoding='latin-1'"
   ]
  },
  {
   "cell_type": "code",
   "execution_count": 423,
   "metadata": {},
   "outputs": [],
   "source": [
    "enem = pd.read_csv(os.path.join(datapath,'ENEM2015.csv'))\n",
    "enem.rename(columns={'Classificacao':'y', 'CODIGO DA ENTIDADE': 'CODMEC'}, inplace=True)"
   ]
  },
  {
   "cell_type": "code",
   "execution_count": 424,
   "metadata": {},
   "outputs": [],
   "source": [
    "dados_escolares = pd.read_csv(os.path.join(datapath,'DadosEscolares1996-2015.csv'))  #, encoding='latin-1'\n",
    "dados_escolares.drop(['DEP', 'NOME', 'SETEDU', 'DISTRITO07', 'SUBPREF', 'CORED', 'ZONA'], axis=1, inplace=True)"
   ]
  },
  {
   "cell_type": "code",
   "execution_count": 425,
   "metadata": {},
   "outputs": [],
   "source": [
    "esc = pd.read_csv(os.path.join(datapath,'ESC2013_RMSP_CEM.csv'))  #, encoding='latin-1'\n",
    "esc.rename(columns={'CODESC': 'CODMEC'}, inplace=True)"
   ]
  },
  {
   "cell_type": "raw",
   "metadata": {},
   "source": [
    "esc.head()"
   ]
  },
  {
   "cell_type": "markdown",
   "metadata": {},
   "source": [
    "activate this to detect duplicate columns\n",
    "* for c in list(df_train.columns):\n",
    "*    if c.endswith('x'):\n",
    "*        print(c)"
   ]
  },
  {
   "cell_type": "markdown",
   "metadata": {},
   "source": [
    "keep dados_escolares only for year 2015"
   ]
  },
  {
   "cell_type": "code",
   "execution_count": 426,
   "metadata": {},
   "outputs": [],
   "source": [
    "dados_escolares = dados_escolares[dados_escolares.ANO == 2015]"
   ]
  },
  {
   "cell_type": "markdown",
   "metadata": {},
   "source": [
    "### check missing obs between datasets before merge operation"
   ]
  },
  {
   "cell_type": "code",
   "execution_count": 427,
   "metadata": {},
   "outputs": [
    {
     "name": "stdout",
     "output_type": "stream",
     "text": [
      "size of dados_escolares: 7127\n",
      "size of rendimentos: 14944\n",
      "size of ESC2013: 10937\n"
     ]
    }
   ],
   "source": [
    "print(\"size of dados_escolares:\",len(dados_escolares))\n",
    "print(\"size of rendimentos:\",len(data))\n",
    "print(\"size of ESC2013:\",len(esc))"
   ]
  },
  {
   "cell_type": "code",
   "execution_count": 428,
   "metadata": {},
   "outputs": [
    {
     "data": {
      "text/plain": [
       "7127"
      ]
     },
     "execution_count": 428,
     "metadata": {},
     "output_type": "execute_result"
    }
   ],
   "source": [
    "len(set(dados_escolares['CODMEC']))"
   ]
  },
  {
   "cell_type": "code",
   "execution_count": 429,
   "metadata": {},
   "outputs": [
    {
     "name": "stdout",
     "output_type": "stream",
     "text": [
      "missing from rendimentos 2248\n",
      "missing from dados_escolares 13\n"
     ]
    }
   ],
   "source": [
    "print(\"missing from rendimentos\", len(set(dados_escolares['CODMEC']) - set(data['CODMEC'])))\n",
    "print(\"missing from dados_escolares\", len(set(data['CODMEC']) - set(dados_escolares['CODMEC'])))"
   ]
  },
  {
   "cell_type": "markdown",
   "metadata": {},
   "source": [
    "# merge datasets"
   ]
  },
  {
   "cell_type": "code",
   "execution_count": 430,
   "metadata": {},
   "outputs": [],
   "source": [
    "data = data.merge(dados_escolares, left_on='CODMEC', right_on='CODMEC', how=\"outer\")\n",
    "data.rename(columns={'MAIS EDUCAÃ‡ÃƒO':'MAIS EDUCACAO', 'SITUAÃ‡ÃƒO': 'SITUACAO'}, inplace=True)"
   ]
  },
  {
   "cell_type": "code",
   "execution_count": 431,
   "metadata": {},
   "outputs": [],
   "source": [
    "data = data.merge(esc, left_on='CODMEC', right_on='CODMEC', how=\"outer\")"
   ]
  },
  {
   "cell_type": "code",
   "execution_count": 432,
   "metadata": {},
   "outputs": [
    {
     "name": "stdout",
     "output_type": "stream",
     "text": [
      "missing from data 0\n",
      "missing from Y 10796\n"
     ]
    }
   ],
   "source": [
    "print(\"missing from data\", len(set(enem['CODMEC']) - set(data['CODMEC'])))\n",
    "print(\"missing from Y\", len(set(data['CODMEC']) - set(enem['CODMEC'])))"
   ]
  },
  {
   "cell_type": "code",
   "execution_count": 433,
   "metadata": {},
   "outputs": [],
   "source": [
    "data = data.merge(enem, left_on='CODMEC', right_on='CODMEC', how='inner')"
   ]
  },
  {
   "cell_type": "code",
   "execution_count": 434,
   "metadata": {},
   "outputs": [
    {
     "data": {
      "text/html": [
       "<div>\n",
       "<style scoped>\n",
       "    .dataframe tbody tr th:only-of-type {\n",
       "        vertical-align: middle;\n",
       "    }\n",
       "\n",
       "    .dataframe tbody tr th {\n",
       "        vertical-align: top;\n",
       "    }\n",
       "\n",
       "    .dataframe thead th {\n",
       "        text-align: right;\n",
       "    }\n",
       "</style>\n",
       "<table border=\"1\" class=\"dataframe\">\n",
       "  <thead>\n",
       "    <tr style=\"text-align: right;\">\n",
       "      <th></th>\n",
       "      <th>CODMEC</th>\n",
       "      <th>ANO_x</th>\n",
       "      <th>DEP</th>\n",
       "      <th>NOME</th>\n",
       "      <th>SETEDU</th>\n",
       "      <th>DISTRITO07</th>\n",
       "      <th>SUBPREF</th>\n",
       "      <th>CORED</th>\n",
       "      <th>ZONA</th>\n",
       "      <th>EFABAND9ANOS1S</th>\n",
       "      <th>...</th>\n",
       "      <th>RED_EN13</th>\n",
       "      <th>LC_EN13</th>\n",
       "      <th>MAT_EN13</th>\n",
       "      <th>CH_EN13</th>\n",
       "      <th>CN_EN13</th>\n",
       "      <th>ENEM2013</th>\n",
       "      <th>INSE_AB</th>\n",
       "      <th>INSE_CL</th>\n",
       "      <th>NUMERO DE PARTICIPANTES</th>\n",
       "      <th>y</th>\n",
       "    </tr>\n",
       "  </thead>\n",
       "  <tbody>\n",
       "    <tr>\n",
       "      <th>0</th>\n",
       "      <td>35054082</td>\n",
       "      <td>2014.0</td>\n",
       "      <td>MUNICIPAL</td>\n",
       "      <td>LINNEU PRESTES, PROF.</td>\n",
       "      <td>7102</td>\n",
       "      <td>SANTO AMARO</td>\n",
       "      <td>SANTO AMARO</td>\n",
       "      <td>SANTO AMARO</td>\n",
       "      <td>SUL</td>\n",
       "      <td>0.0</td>\n",
       "      <td>...</td>\n",
       "      <td>NaN</td>\n",
       "      <td>NaN</td>\n",
       "      <td>NaN</td>\n",
       "      <td>NaN</td>\n",
       "      <td>NaN</td>\n",
       "      <td>NaN</td>\n",
       "      <td>54.9841</td>\n",
       "      <td>Medio Alto</td>\n",
       "      <td>51</td>\n",
       "      <td>1</td>\n",
       "    </tr>\n",
       "    <tr>\n",
       "      <th>1</th>\n",
       "      <td>35054082</td>\n",
       "      <td>2013.0</td>\n",
       "      <td>MUNICIPAL</td>\n",
       "      <td>LINNEU PRESTES, PROF.</td>\n",
       "      <td>7102</td>\n",
       "      <td>SANTO AMARO</td>\n",
       "      <td>SANTO AMARO</td>\n",
       "      <td>SANTO AMARO</td>\n",
       "      <td>SUL</td>\n",
       "      <td>0.0</td>\n",
       "      <td>...</td>\n",
       "      <td>NaN</td>\n",
       "      <td>NaN</td>\n",
       "      <td>NaN</td>\n",
       "      <td>NaN</td>\n",
       "      <td>NaN</td>\n",
       "      <td>NaN</td>\n",
       "      <td>54.9841</td>\n",
       "      <td>Medio Alto</td>\n",
       "      <td>51</td>\n",
       "      <td>1</td>\n",
       "    </tr>\n",
       "    <tr>\n",
       "      <th>2</th>\n",
       "      <td>35054082</td>\n",
       "      <td>2012.0</td>\n",
       "      <td>Municipal</td>\n",
       "      <td>EMEFM LINNEU PRESTES PROF</td>\n",
       "      <td>7102</td>\n",
       "      <td>SANTO AMARO</td>\n",
       "      <td>SANTO AMARO</td>\n",
       "      <td>SANTO AMARO</td>\n",
       "      <td>SUL</td>\n",
       "      <td>0.0</td>\n",
       "      <td>...</td>\n",
       "      <td>NaN</td>\n",
       "      <td>NaN</td>\n",
       "      <td>NaN</td>\n",
       "      <td>NaN</td>\n",
       "      <td>NaN</td>\n",
       "      <td>NaN</td>\n",
       "      <td>54.9841</td>\n",
       "      <td>Medio Alto</td>\n",
       "      <td>51</td>\n",
       "      <td>1</td>\n",
       "    </tr>\n",
       "    <tr>\n",
       "      <th>3</th>\n",
       "      <td>35054082</td>\n",
       "      <td>2011.0</td>\n",
       "      <td>Municipal</td>\n",
       "      <td>EMEFM LINNEU PRESTES PROF</td>\n",
       "      <td>7102</td>\n",
       "      <td>SANTO AMARO</td>\n",
       "      <td>SANTO AMARO</td>\n",
       "      <td>SANTO AMARO</td>\n",
       "      <td>SUL</td>\n",
       "      <td>0.0</td>\n",
       "      <td>...</td>\n",
       "      <td>NaN</td>\n",
       "      <td>NaN</td>\n",
       "      <td>NaN</td>\n",
       "      <td>NaN</td>\n",
       "      <td>NaN</td>\n",
       "      <td>NaN</td>\n",
       "      <td>54.9841</td>\n",
       "      <td>Medio Alto</td>\n",
       "      <td>51</td>\n",
       "      <td>1</td>\n",
       "    </tr>\n",
       "    <tr>\n",
       "      <th>4</th>\n",
       "      <td>35054082</td>\n",
       "      <td>2010.0</td>\n",
       "      <td>Municipal</td>\n",
       "      <td>LINNEU PRESTES PROF EMEFM</td>\n",
       "      <td>7102</td>\n",
       "      <td>SANTO AMARO</td>\n",
       "      <td>SANTO AMARO</td>\n",
       "      <td>SANTO AMARO</td>\n",
       "      <td>SUL</td>\n",
       "      <td>0.0</td>\n",
       "      <td>...</td>\n",
       "      <td>NaN</td>\n",
       "      <td>NaN</td>\n",
       "      <td>NaN</td>\n",
       "      <td>NaN</td>\n",
       "      <td>NaN</td>\n",
       "      <td>NaN</td>\n",
       "      <td>54.9841</td>\n",
       "      <td>Medio Alto</td>\n",
       "      <td>51</td>\n",
       "      <td>1</td>\n",
       "    </tr>\n",
       "  </tbody>\n",
       "</table>\n",
       "<p>5 rows × 471 columns</p>\n",
       "</div>"
      ],
      "text/plain": [
       "     CODMEC   ANO_x        DEP                       NOME SETEDU   DISTRITO07  \\\n",
       "0  35054082  2014.0  MUNICIPAL      LINNEU PRESTES, PROF.   7102  SANTO AMARO   \n",
       "1  35054082  2013.0  MUNICIPAL      LINNEU PRESTES, PROF.   7102  SANTO AMARO   \n",
       "2  35054082  2012.0  Municipal  EMEFM LINNEU PRESTES PROF   7102  SANTO AMARO   \n",
       "3  35054082  2011.0  Municipal  EMEFM LINNEU PRESTES PROF   7102  SANTO AMARO   \n",
       "4  35054082  2010.0  Municipal  LINNEU PRESTES PROF EMEFM   7102  SANTO AMARO   \n",
       "\n",
       "       SUBPREF        CORED ZONA  EFABAND9ANOS1S  ...  RED_EN13  LC_EN13  \\\n",
       "0  SANTO AMARO  SANTO AMARO  SUL             0.0  ...       NaN      NaN   \n",
       "1  SANTO AMARO  SANTO AMARO  SUL             0.0  ...       NaN      NaN   \n",
       "2  SANTO AMARO  SANTO AMARO  SUL             0.0  ...       NaN      NaN   \n",
       "3  SANTO AMARO  SANTO AMARO  SUL             0.0  ...       NaN      NaN   \n",
       "4  SANTO AMARO  SANTO AMARO  SUL             0.0  ...       NaN      NaN   \n",
       "\n",
       "   MAT_EN13  CH_EN13  CN_EN13  ENEM2013  INSE_AB     INSE_CL  \\\n",
       "0       NaN      NaN      NaN       NaN  54.9841  Medio Alto   \n",
       "1       NaN      NaN      NaN       NaN  54.9841  Medio Alto   \n",
       "2       NaN      NaN      NaN       NaN  54.9841  Medio Alto   \n",
       "3       NaN      NaN      NaN       NaN  54.9841  Medio Alto   \n",
       "4       NaN      NaN      NaN       NaN  54.9841  Medio Alto   \n",
       "\n",
       "   NUMERO DE PARTICIPANTES  y  \n",
       "0                       51  1  \n",
       "1                       51  1  \n",
       "2                       51  1  \n",
       "3                       51  1  \n",
       "4                       51  1  \n",
       "\n",
       "[5 rows x 471 columns]"
      ]
     },
     "execution_count": 434,
     "metadata": {},
     "output_type": "execute_result"
    }
   ],
   "source": [
    "data.head()"
   ]
  },
  {
   "cell_type": "code",
   "execution_count": 435,
   "metadata": {},
   "outputs": [
    {
     "data": {
      "text/html": [
       "<div>\n",
       "<style scoped>\n",
       "    .dataframe tbody tr th:only-of-type {\n",
       "        vertical-align: middle;\n",
       "    }\n",
       "\n",
       "    .dataframe tbody tr th {\n",
       "        vertical-align: top;\n",
       "    }\n",
       "\n",
       "    .dataframe thead th {\n",
       "        text-align: right;\n",
       "    }\n",
       "</style>\n",
       "<table border=\"1\" class=\"dataframe\">\n",
       "  <thead>\n",
       "    <tr style=\"text-align: right;\">\n",
       "      <th></th>\n",
       "      <th>CODMEC</th>\n",
       "      <th>ANO_x</th>\n",
       "      <th>DEP</th>\n",
       "      <th>NOME</th>\n",
       "      <th>SETEDU</th>\n",
       "      <th>DISTRITO07</th>\n",
       "      <th>SUBPREF</th>\n",
       "      <th>CORED</th>\n",
       "      <th>ZONA</th>\n",
       "      <th>EFABAND9ANOS1S</th>\n",
       "      <th>...</th>\n",
       "      <th>RED_EN13</th>\n",
       "      <th>LC_EN13</th>\n",
       "      <th>MAT_EN13</th>\n",
       "      <th>CH_EN13</th>\n",
       "      <th>CN_EN13</th>\n",
       "      <th>ENEM2013</th>\n",
       "      <th>INSE_AB</th>\n",
       "      <th>INSE_CL</th>\n",
       "      <th>NUMERO DE PARTICIPANTES</th>\n",
       "      <th>y</th>\n",
       "    </tr>\n",
       "  </thead>\n",
       "  <tbody>\n",
       "    <tr>\n",
       "      <th>1313</th>\n",
       "      <td>35006555</td>\n",
       "      <td>NaN</td>\n",
       "      <td>NaN</td>\n",
       "      <td>NaN</td>\n",
       "      <td>NaN</td>\n",
       "      <td>NaN</td>\n",
       "      <td>NaN</td>\n",
       "      <td>NaN</td>\n",
       "      <td>NaN</td>\n",
       "      <td>NaN</td>\n",
       "      <td>...</td>\n",
       "      <td>NaN</td>\n",
       "      <td>NaN</td>\n",
       "      <td>NaN</td>\n",
       "      <td>NaN</td>\n",
       "      <td>NaN</td>\n",
       "      <td>NaN</td>\n",
       "      <td>51.1287</td>\n",
       "      <td>Medio Alto</td>\n",
       "      <td>77</td>\n",
       "      <td>1</td>\n",
       "    </tr>\n",
       "    <tr>\n",
       "      <th>1314</th>\n",
       "      <td>35166406</td>\n",
       "      <td>NaN</td>\n",
       "      <td>NaN</td>\n",
       "      <td>NaN</td>\n",
       "      <td>NaN</td>\n",
       "      <td>NaN</td>\n",
       "      <td>NaN</td>\n",
       "      <td>NaN</td>\n",
       "      <td>NaN</td>\n",
       "      <td>NaN</td>\n",
       "      <td>...</td>\n",
       "      <td>648.00</td>\n",
       "      <td>533.35</td>\n",
       "      <td>561.61</td>\n",
       "      <td>573.15</td>\n",
       "      <td>549.80</td>\n",
       "      <td>554.48</td>\n",
       "      <td>NaN</td>\n",
       "      <td>NaN</td>\n",
       "      <td>11</td>\n",
       "      <td>2</td>\n",
       "    </tr>\n",
       "    <tr>\n",
       "      <th>1315</th>\n",
       "      <td>35006592</td>\n",
       "      <td>NaN</td>\n",
       "      <td>NaN</td>\n",
       "      <td>NaN</td>\n",
       "      <td>NaN</td>\n",
       "      <td>NaN</td>\n",
       "      <td>NaN</td>\n",
       "      <td>NaN</td>\n",
       "      <td>NaN</td>\n",
       "      <td>NaN</td>\n",
       "      <td>...</td>\n",
       "      <td>NaN</td>\n",
       "      <td>NaN</td>\n",
       "      <td>NaN</td>\n",
       "      <td>NaN</td>\n",
       "      <td>NaN</td>\n",
       "      <td>NaN</td>\n",
       "      <td>50.6909</td>\n",
       "      <td>Medio Alto</td>\n",
       "      <td>78</td>\n",
       "      <td>1</td>\n",
       "    </tr>\n",
       "    <tr>\n",
       "      <th>1316</th>\n",
       "      <td>35038398</td>\n",
       "      <td>NaN</td>\n",
       "      <td>NaN</td>\n",
       "      <td>NaN</td>\n",
       "      <td>NaN</td>\n",
       "      <td>NaN</td>\n",
       "      <td>NaN</td>\n",
       "      <td>NaN</td>\n",
       "      <td>NaN</td>\n",
       "      <td>NaN</td>\n",
       "      <td>...</td>\n",
       "      <td>581.09</td>\n",
       "      <td>519.20</td>\n",
       "      <td>521.35</td>\n",
       "      <td>522.83</td>\n",
       "      <td>486.50</td>\n",
       "      <td>512.47</td>\n",
       "      <td>55.4510</td>\n",
       "      <td>Alto</td>\n",
       "      <td>49</td>\n",
       "      <td>2</td>\n",
       "    </tr>\n",
       "    <tr>\n",
       "      <th>1317</th>\n",
       "      <td>35006737</td>\n",
       "      <td>NaN</td>\n",
       "      <td>NaN</td>\n",
       "      <td>NaN</td>\n",
       "      <td>NaN</td>\n",
       "      <td>NaN</td>\n",
       "      <td>NaN</td>\n",
       "      <td>NaN</td>\n",
       "      <td>NaN</td>\n",
       "      <td>NaN</td>\n",
       "      <td>...</td>\n",
       "      <td>531.92</td>\n",
       "      <td>494.55</td>\n",
       "      <td>514.11</td>\n",
       "      <td>511.57</td>\n",
       "      <td>473.05</td>\n",
       "      <td>498.32</td>\n",
       "      <td>51.9947</td>\n",
       "      <td>Medio Alto</td>\n",
       "      <td>82</td>\n",
       "      <td>2</td>\n",
       "    </tr>\n",
       "  </tbody>\n",
       "</table>\n",
       "<p>5 rows × 471 columns</p>\n",
       "</div>"
      ],
      "text/plain": [
       "        CODMEC  ANO_x  DEP NOME SETEDU DISTRITO07 SUBPREF CORED ZONA  \\\n",
       "1313  35006555    NaN  NaN  NaN    NaN        NaN     NaN   NaN  NaN   \n",
       "1314  35166406    NaN  NaN  NaN    NaN        NaN     NaN   NaN  NaN   \n",
       "1315  35006592    NaN  NaN  NaN    NaN        NaN     NaN   NaN  NaN   \n",
       "1316  35038398    NaN  NaN  NaN    NaN        NaN     NaN   NaN  NaN   \n",
       "1317  35006737    NaN  NaN  NaN    NaN        NaN     NaN   NaN  NaN   \n",
       "\n",
       "      EFABAND9ANOS1S  ...  RED_EN13  LC_EN13  MAT_EN13  CH_EN13  CN_EN13  \\\n",
       "1313             NaN  ...       NaN      NaN       NaN      NaN      NaN   \n",
       "1314             NaN  ...    648.00   533.35    561.61   573.15   549.80   \n",
       "1315             NaN  ...       NaN      NaN       NaN      NaN      NaN   \n",
       "1316             NaN  ...    581.09   519.20    521.35   522.83   486.50   \n",
       "1317             NaN  ...    531.92   494.55    514.11   511.57   473.05   \n",
       "\n",
       "      ENEM2013  INSE_AB     INSE_CL  NUMERO DE PARTICIPANTES  y  \n",
       "1313       NaN  51.1287  Medio Alto                       77  1  \n",
       "1314    554.48      NaN         NaN                       11  2  \n",
       "1315       NaN  50.6909  Medio Alto                       78  1  \n",
       "1316    512.47  55.4510        Alto                       49  2  \n",
       "1317    498.32  51.9947  Medio Alto                       82  2  \n",
       "\n",
       "[5 rows x 471 columns]"
      ]
     },
     "execution_count": 435,
     "metadata": {},
     "output_type": "execute_result"
    }
   ],
   "source": [
    "data.tail()"
   ]
  },
  {
   "cell_type": "code",
   "execution_count": 436,
   "metadata": {},
   "outputs": [
    {
     "name": "stdout",
     "output_type": "stream",
     "text": [
      "<class 'pandas.core.frame.DataFrame'>\n",
      "Int64Index: 1318 entries, 0 to 1317\n",
      "Columns: 471 entries, CODMEC to y\n",
      "dtypes: float64(440), int64(3), object(28)\n",
      "memory usage: 4.7+ MB\n"
     ]
    }
   ],
   "source": [
    "data.info()"
   ]
  },
  {
   "cell_type": "code",
   "execution_count": 437,
   "metadata": {},
   "outputs": [
    {
     "data": {
      "text/plain": [
       "1243"
      ]
     },
     "execution_count": 437,
     "metadata": {},
     "output_type": "execute_result"
    }
   ],
   "source": [
    "data['CODMEC'].unique().size"
   ]
  },
  {
   "cell_type": "code",
   "execution_count": 438,
   "metadata": {},
   "outputs": [
    {
     "data": {
      "text/plain": [
       "Index(['CODMEC', 'ANO_x', 'DEP', 'NOME', 'SETEDU', 'DISTRITO07', 'SUBPREF',\n",
       "       'CORED', 'ZONA', 'EFABAND9ANOS1S',\n",
       "       ...\n",
       "       'RED_EN13', 'LC_EN13', 'MAT_EN13', 'CH_EN13', 'CN_EN13', 'ENEM2013',\n",
       "       'INSE_AB', 'INSE_CL', 'NUMERO DE PARTICIPANTES', 'y'],\n",
       "      dtype='object', length=471)"
      ]
     },
     "execution_count": 438,
     "metadata": {},
     "output_type": "execute_result"
    }
   ],
   "source": [
    "data.columns"
   ]
  },
  {
   "cell_type": "code",
   "execution_count": 439,
   "metadata": {},
   "outputs": [
    {
     "data": {
      "text/html": [
       "<div>\n",
       "<style scoped>\n",
       "    .dataframe tbody tr th:only-of-type {\n",
       "        vertical-align: middle;\n",
       "    }\n",
       "\n",
       "    .dataframe tbody tr th {\n",
       "        vertical-align: top;\n",
       "    }\n",
       "\n",
       "    .dataframe thead th {\n",
       "        text-align: right;\n",
       "    }\n",
       "</style>\n",
       "<table border=\"1\" class=\"dataframe\">\n",
       "  <thead>\n",
       "    <tr style=\"text-align: right;\">\n",
       "      <th></th>\n",
       "      <th>CODMEC</th>\n",
       "      <th>ANO_x</th>\n",
       "      <th>EFABAND9ANOS1S</th>\n",
       "      <th>EFABAND9ANOS2S</th>\n",
       "      <th>EFABAND9ANOS3S</th>\n",
       "      <th>EFABAND9ANOS4S</th>\n",
       "      <th>EFABAND9ANOS5S</th>\n",
       "      <th>EFABAND9ANOS6S</th>\n",
       "      <th>EFABAND9ANOS7S</th>\n",
       "      <th>EFABAND9ANOS8S</th>\n",
       "      <th>...</th>\n",
       "      <th>IDEB13AF</th>\n",
       "      <th>RED_EN13</th>\n",
       "      <th>LC_EN13</th>\n",
       "      <th>MAT_EN13</th>\n",
       "      <th>CH_EN13</th>\n",
       "      <th>CN_EN13</th>\n",
       "      <th>ENEM2013</th>\n",
       "      <th>INSE_AB</th>\n",
       "      <th>NUMERO DE PARTICIPANTES</th>\n",
       "      <th>y</th>\n",
       "    </tr>\n",
       "  </thead>\n",
       "  <tbody>\n",
       "    <tr>\n",
       "      <th>count</th>\n",
       "      <td>1.318000e+03</td>\n",
       "      <td>580.000000</td>\n",
       "      <td>580.000000</td>\n",
       "      <td>580.000000</td>\n",
       "      <td>580.000000</td>\n",
       "      <td>580.000000</td>\n",
       "      <td>580.000000</td>\n",
       "      <td>580.000000</td>\n",
       "      <td>580.000000</td>\n",
       "      <td>580.000000</td>\n",
       "      <td>...</td>\n",
       "      <td>413.000000</td>\n",
       "      <td>1024.000000</td>\n",
       "      <td>1024.000000</td>\n",
       "      <td>1024.000000</td>\n",
       "      <td>1024.000000</td>\n",
       "      <td>1024.000000</td>\n",
       "      <td>1024.000000</td>\n",
       "      <td>1264.000000</td>\n",
       "      <td>1318.000000</td>\n",
       "      <td>1318.000000</td>\n",
       "    </tr>\n",
       "    <tr>\n",
       "      <th>mean</th>\n",
       "      <td>3.519349e+07</td>\n",
       "      <td>2013.965517</td>\n",
       "      <td>0.034483</td>\n",
       "      <td>0.017241</td>\n",
       "      <td>0.017241</td>\n",
       "      <td>0.018966</td>\n",
       "      <td>0.020690</td>\n",
       "      <td>0.015517</td>\n",
       "      <td>0.039655</td>\n",
       "      <td>0.036207</td>\n",
       "      <td>...</td>\n",
       "      <td>4.526877</td>\n",
       "      <td>570.779258</td>\n",
       "      <td>534.984346</td>\n",
       "      <td>571.079883</td>\n",
       "      <td>555.581543</td>\n",
       "      <td>511.928350</td>\n",
       "      <td>543.393643</td>\n",
       "      <td>60.094337</td>\n",
       "      <td>60.908194</td>\n",
       "      <td>1.998483</td>\n",
       "    </tr>\n",
       "    <tr>\n",
       "      <th>std</th>\n",
       "      <td>2.355464e+05</td>\n",
       "      <td>3.104209</td>\n",
       "      <td>0.217182</td>\n",
       "      <td>0.142925</td>\n",
       "      <td>0.194162</td>\n",
       "      <td>0.222993</td>\n",
       "      <td>0.154113</td>\n",
       "      <td>0.149035</td>\n",
       "      <td>0.367242</td>\n",
       "      <td>0.300373</td>\n",
       "      <td>...</td>\n",
       "      <td>0.574523</td>\n",
       "      <td>59.030479</td>\n",
       "      <td>35.678671</td>\n",
       "      <td>63.486503</td>\n",
       "      <td>45.472491</td>\n",
       "      <td>47.282641</td>\n",
       "      <td>46.753100</td>\n",
       "      <td>5.669078</td>\n",
       "      <td>61.018637</td>\n",
       "      <td>0.674966</td>\n",
       "    </tr>\n",
       "    <tr>\n",
       "      <th>min</th>\n",
       "      <td>3.500014e+07</td>\n",
       "      <td>2000.000000</td>\n",
       "      <td>0.000000</td>\n",
       "      <td>0.000000</td>\n",
       "      <td>0.000000</td>\n",
       "      <td>0.000000</td>\n",
       "      <td>0.000000</td>\n",
       "      <td>0.000000</td>\n",
       "      <td>0.000000</td>\n",
       "      <td>0.000000</td>\n",
       "      <td>...</td>\n",
       "      <td>2.300000</td>\n",
       "      <td>380.000000</td>\n",
       "      <td>444.940000</td>\n",
       "      <td>459.380000</td>\n",
       "      <td>461.280000</td>\n",
       "      <td>425.590000</td>\n",
       "      <td>454.690000</td>\n",
       "      <td>46.064600</td>\n",
       "      <td>10.000000</td>\n",
       "      <td>0.000000</td>\n",
       "    </tr>\n",
       "    <tr>\n",
       "      <th>25%</th>\n",
       "      <td>3.506083e+07</td>\n",
       "      <td>2015.000000</td>\n",
       "      <td>0.000000</td>\n",
       "      <td>0.000000</td>\n",
       "      <td>0.000000</td>\n",
       "      <td>0.000000</td>\n",
       "      <td>0.000000</td>\n",
       "      <td>0.000000</td>\n",
       "      <td>0.000000</td>\n",
       "      <td>0.000000</td>\n",
       "      <td>...</td>\n",
       "      <td>4.200000</td>\n",
       "      <td>525.520000</td>\n",
       "      <td>507.355000</td>\n",
       "      <td>516.760000</td>\n",
       "      <td>518.330000</td>\n",
       "      <td>472.990000</td>\n",
       "      <td>502.990000</td>\n",
       "      <td>55.338700</td>\n",
       "      <td>22.000000</td>\n",
       "      <td>2.000000</td>\n",
       "    </tr>\n",
       "    <tr>\n",
       "      <th>50%</th>\n",
       "      <td>3.512693e+07</td>\n",
       "      <td>2015.000000</td>\n",
       "      <td>0.000000</td>\n",
       "      <td>0.000000</td>\n",
       "      <td>0.000000</td>\n",
       "      <td>0.000000</td>\n",
       "      <td>0.000000</td>\n",
       "      <td>0.000000</td>\n",
       "      <td>0.000000</td>\n",
       "      <td>0.000000</td>\n",
       "      <td>...</td>\n",
       "      <td>4.600000</td>\n",
       "      <td>563.300000</td>\n",
       "      <td>532.195000</td>\n",
       "      <td>564.730000</td>\n",
       "      <td>550.520000</td>\n",
       "      <td>506.245000</td>\n",
       "      <td>539.215000</td>\n",
       "      <td>59.572950</td>\n",
       "      <td>42.000000</td>\n",
       "      <td>2.000000</td>\n",
       "    </tr>\n",
       "    <tr>\n",
       "      <th>75%</th>\n",
       "      <td>3.517399e+07</td>\n",
       "      <td>2015.000000</td>\n",
       "      <td>0.000000</td>\n",
       "      <td>0.000000</td>\n",
       "      <td>0.000000</td>\n",
       "      <td>0.000000</td>\n",
       "      <td>0.000000</td>\n",
       "      <td>0.000000</td>\n",
       "      <td>0.000000</td>\n",
       "      <td>0.000000</td>\n",
       "      <td>...</td>\n",
       "      <td>4.900000</td>\n",
       "      <td>609.815000</td>\n",
       "      <td>559.020000</td>\n",
       "      <td>607.410000</td>\n",
       "      <td>584.205000</td>\n",
       "      <td>540.185000</td>\n",
       "      <td>570.110000</td>\n",
       "      <td>63.983950</td>\n",
       "      <td>76.000000</td>\n",
       "      <td>2.000000</td>\n",
       "    </tr>\n",
       "    <tr>\n",
       "      <th>max</th>\n",
       "      <td>3.599001e+07</td>\n",
       "      <td>2015.000000</td>\n",
       "      <td>2.000000</td>\n",
       "      <td>2.000000</td>\n",
       "      <td>3.000000</td>\n",
       "      <td>4.000000</td>\n",
       "      <td>2.000000</td>\n",
       "      <td>2.000000</td>\n",
       "      <td>6.000000</td>\n",
       "      <td>5.000000</td>\n",
       "      <td>...</td>\n",
       "      <td>6.500000</td>\n",
       "      <td>804.550000</td>\n",
       "      <td>658.290000</td>\n",
       "      <td>836.650000</td>\n",
       "      <td>738.790000</td>\n",
       "      <td>734.030000</td>\n",
       "      <td>741.940000</td>\n",
       "      <td>76.643500</td>\n",
       "      <td>574.000000</td>\n",
       "      <td>4.000000</td>\n",
       "    </tr>\n",
       "  </tbody>\n",
       "</table>\n",
       "<p>8 rows × 443 columns</p>\n",
       "</div>"
      ],
      "text/plain": [
       "             CODMEC        ANO_x  EFABAND9ANOS1S  EFABAND9ANOS2S  \\\n",
       "count  1.318000e+03   580.000000      580.000000      580.000000   \n",
       "mean   3.519349e+07  2013.965517        0.034483        0.017241   \n",
       "std    2.355464e+05     3.104209        0.217182        0.142925   \n",
       "min    3.500014e+07  2000.000000        0.000000        0.000000   \n",
       "25%    3.506083e+07  2015.000000        0.000000        0.000000   \n",
       "50%    3.512693e+07  2015.000000        0.000000        0.000000   \n",
       "75%    3.517399e+07  2015.000000        0.000000        0.000000   \n",
       "max    3.599001e+07  2015.000000        2.000000        2.000000   \n",
       "\n",
       "       EFABAND9ANOS3S  EFABAND9ANOS4S  EFABAND9ANOS5S  EFABAND9ANOS6S  \\\n",
       "count      580.000000      580.000000      580.000000      580.000000   \n",
       "mean         0.017241        0.018966        0.020690        0.015517   \n",
       "std          0.194162        0.222993        0.154113        0.149035   \n",
       "min          0.000000        0.000000        0.000000        0.000000   \n",
       "25%          0.000000        0.000000        0.000000        0.000000   \n",
       "50%          0.000000        0.000000        0.000000        0.000000   \n",
       "75%          0.000000        0.000000        0.000000        0.000000   \n",
       "max          3.000000        4.000000        2.000000        2.000000   \n",
       "\n",
       "       EFABAND9ANOS7S  EFABAND9ANOS8S  ...    IDEB13AF     RED_EN13  \\\n",
       "count      580.000000      580.000000  ...  413.000000  1024.000000   \n",
       "mean         0.039655        0.036207  ...    4.526877   570.779258   \n",
       "std          0.367242        0.300373  ...    0.574523    59.030479   \n",
       "min          0.000000        0.000000  ...    2.300000   380.000000   \n",
       "25%          0.000000        0.000000  ...    4.200000   525.520000   \n",
       "50%          0.000000        0.000000  ...    4.600000   563.300000   \n",
       "75%          0.000000        0.000000  ...    4.900000   609.815000   \n",
       "max          6.000000        5.000000  ...    6.500000   804.550000   \n",
       "\n",
       "           LC_EN13     MAT_EN13      CH_EN13      CN_EN13     ENEM2013  \\\n",
       "count  1024.000000  1024.000000  1024.000000  1024.000000  1024.000000   \n",
       "mean    534.984346   571.079883   555.581543   511.928350   543.393643   \n",
       "std      35.678671    63.486503    45.472491    47.282641    46.753100   \n",
       "min     444.940000   459.380000   461.280000   425.590000   454.690000   \n",
       "25%     507.355000   516.760000   518.330000   472.990000   502.990000   \n",
       "50%     532.195000   564.730000   550.520000   506.245000   539.215000   \n",
       "75%     559.020000   607.410000   584.205000   540.185000   570.110000   \n",
       "max     658.290000   836.650000   738.790000   734.030000   741.940000   \n",
       "\n",
       "           INSE_AB  NUMERO DE PARTICIPANTES            y  \n",
       "count  1264.000000              1318.000000  1318.000000  \n",
       "mean     60.094337                60.908194     1.998483  \n",
       "std       5.669078                61.018637     0.674966  \n",
       "min      46.064600                10.000000     0.000000  \n",
       "25%      55.338700                22.000000     2.000000  \n",
       "50%      59.572950                42.000000     2.000000  \n",
       "75%      63.983950                76.000000     2.000000  \n",
       "max      76.643500               574.000000     4.000000  \n",
       "\n",
       "[8 rows x 443 columns]"
      ]
     },
     "execution_count": 439,
     "metadata": {},
     "output_type": "execute_result"
    }
   ],
   "source": [
    "data.describe()"
   ]
  },
  {
   "cell_type": "markdown",
   "metadata": {},
   "source": [
    "### remove duplicates"
   ]
  },
  {
   "cell_type": "code",
   "execution_count": 440,
   "metadata": {},
   "outputs": [],
   "source": [
    "data.sort_values(by=['ANO_x'], ascending=False, inplace=True)\n",
    "data.drop_duplicates(keep='first',inplace=True) "
   ]
  },
  {
   "cell_type": "markdown",
   "metadata": {},
   "source": [
    "# checking types"
   ]
  },
  {
   "cell_type": "markdown",
   "metadata": {},
   "source": [
    "the dataframe has 3 types of data: int, float and object (string)"
   ]
  },
  {
   "cell_type": "code",
   "execution_count": 441,
   "metadata": {},
   "outputs": [],
   "source": [
    "for cat in data.columns:\n",
    "    if data[cat].dtypes != 'int64' and data[cat].dtypes != 'float64' and data[cat].dtypes != 'object':\n",
    "        print(data[cat].dtypes)"
   ]
  },
  {
   "cell_type": "code",
   "execution_count": 442,
   "metadata": {},
   "outputs": [
    {
     "data": {
      "text/plain": [
       "CODMEC                     int64\n",
       "NUMERO DE PARTICIPANTES    int64\n",
       "y                          int64\n",
       "dtype: object"
      ]
     },
     "execution_count": 442,
     "metadata": {},
     "output_type": "execute_result"
    }
   ],
   "source": [
    "data.dtypes[data.dtypes.map(lambda x: x=='int64')][:10]"
   ]
  },
  {
   "cell_type": "code",
   "execution_count": 443,
   "metadata": {},
   "outputs": [
    {
     "data": {
      "text/plain": [
       "ANO_x             float64\n",
       "EFABAND9ANOS1S    float64\n",
       "EFABAND9ANOS2S    float64\n",
       "EFABAND9ANOS3S    float64\n",
       "EFABAND9ANOS4S    float64\n",
       "EFABAND9ANOS5S    float64\n",
       "EFABAND9ANOS6S    float64\n",
       "EFABAND9ANOS7S    float64\n",
       "EFABAND9ANOS8S    float64\n",
       "EFABAND9ANOS9S    float64\n",
       "dtype: object"
      ]
     },
     "execution_count": 443,
     "metadata": {},
     "output_type": "execute_result"
    }
   ],
   "source": [
    "data.dtypes[data.dtypes.map(lambda x: x=='float64')][:10]"
   ]
  },
  {
   "cell_type": "code",
   "execution_count": 444,
   "metadata": {},
   "outputs": [
    {
     "data": {
      "text/plain": [
       "DEP               object\n",
       "NOME              object\n",
       "SETEDU            object\n",
       "DISTRITO07        object\n",
       "SUBPREF           object\n",
       "CORED             object\n",
       "ZONA              object\n",
       "EJATOTAL,,        object\n",
       "TIPOESC           object\n",
       "DEPADM            object\n",
       "MAIS EDUCACAO     object\n",
       "MERENDA           object\n",
       "DTURNOS - EMEF    object\n",
       "T2D3D - EMEF      object\n",
       "DTURNOS-EMEI      object\n",
       "T2D3D - EMEI      object\n",
       "TIPOENSEJA        object\n",
       "TIPO_EE           object\n",
       "NOMEESC           object\n",
       "NOMEMUN           object\n",
       "NOMDIST           object\n",
       "TIP_DEP           object\n",
       "BAIRRO            object\n",
       "END_ESC           object\n",
       "NUM_ESC           object\n",
       "DDD               object\n",
       "TELEFONE          object\n",
       "INSE_CL           object\n",
       "dtype: object"
      ]
     },
     "execution_count": 444,
     "metadata": {},
     "output_type": "execute_result"
    }
   ],
   "source": [
    "data.dtypes[data.dtypes.map(lambda x: x=='object')]"
   ]
  },
  {
   "cell_type": "code",
   "execution_count": 445,
   "metadata": {},
   "outputs": [
    {
     "data": {
      "text/plain": [
       "DEP               object\n",
       "NOME              object\n",
       "SETEDU            object\n",
       "DISTRITO07        object\n",
       "SUBPREF           object\n",
       "CORED             object\n",
       "ZONA              object\n",
       "EJATOTAL,,        object\n",
       "TIPOESC           object\n",
       "DEPADM            object\n",
       "MAIS EDUCACAO     object\n",
       "MERENDA           object\n",
       "DTURNOS - EMEF    object\n",
       "T2D3D - EMEF      object\n",
       "DTURNOS-EMEI      object\n",
       "T2D3D - EMEI      object\n",
       "TIPOENSEJA        object\n",
       "TIPO_EE           object\n",
       "NOMEESC           object\n",
       "NOMEMUN           object\n",
       "NOMDIST           object\n",
       "TIP_DEP           object\n",
       "BAIRRO            object\n",
       "END_ESC           object\n",
       "NUM_ESC           object\n",
       "DDD               object\n",
       "TELEFONE          object\n",
       "INSE_CL           object\n",
       "dtype: object"
      ]
     },
     "execution_count": 445,
     "metadata": {},
     "output_type": "execute_result"
    }
   ],
   "source": [
    "data.dtypes[data.dtypes.map(lambda x: x=='object')]"
   ]
  },
  {
   "cell_type": "markdown",
   "metadata": {},
   "source": [
    "# checking categorical data"
   ]
  },
  {
   "cell_type": "markdown",
   "metadata": {},
   "source": [
    "For columns with string data, evaluate how many categories each columns has\n",
    "\n",
    "remove columns where one-hot-encoding would not be efficient"
   ]
  },
  {
   "cell_type": "code",
   "execution_count": 446,
   "metadata": {
    "scrolled": true
   },
   "outputs": [
    {
     "name": "stdout",
     "output_type": "stream",
     "text": [
      "Number of levels in category 'DEP': \b 4.00 \n",
      "Number of levels in category 'NOME': \b 527.00 \n",
      "REMOVED:  NOME\n",
      "Number of levels in category 'SETEDU': \b 13.00 \n",
      "REMOVED:  SETEDU\n",
      "Number of levels in category 'DISTRITO07': \b 87.00 \n",
      "REMOVED:  DISTRITO07\n",
      "Number of levels in category 'SUBPREF': \b 32.00 \n",
      "REMOVED:  SUBPREF\n",
      "Number of levels in category 'CORED': \b 14.00 \n",
      "REMOVED:  CORED\n",
      "Number of levels in category 'ZONA': \b 6.00 \n",
      "Number of levels in category 'EJATOTAL,,': \b 9.00 \n",
      "Number of levels in category 'TIPOESC': \b 5.00 \n",
      "Number of levels in category 'DEPADM': \b 1.00 \n",
      "Number of levels in category 'MAIS EDUCACAO': \b 1.00 \n",
      "Number of levels in category 'MERENDA': \b 1.00 \n",
      "Number of levels in category 'DTURNOS - EMEF': \b 1.00 \n",
      "Number of levels in category 'T2D3D - EMEF': \b 2.00 \n",
      "Number of levels in category 'DTURNOS-EMEI': \b 1.00 \n",
      "Number of levels in category 'T2D3D - EMEI': \b 1.00 \n",
      "Number of levels in category 'TIPOENSEJA': \b 2.00 \n",
      "Number of levels in category 'TIPO_EE': \b 3.00 \n",
      "Number of levels in category 'NOMEESC': \b 1221.00 \n",
      "REMOVED:  NOMEESC\n",
      "Number of levels in category 'NOMEMUN': \b 39.00 \n",
      "REMOVED:  NOMEMUN\n",
      "Number of levels in category 'NOMDIST': \b 143.00 \n",
      "REMOVED:  NOMDIST\n",
      "Number of levels in category 'TIP_DEP': \b 4.00 \n",
      "Number of levels in category 'BAIRRO': \b 810.00 \n",
      "REMOVED:  BAIRRO\n",
      "Number of levels in category 'END_ESC': \b 1180.00 \n",
      "REMOVED:  END_ESC\n",
      "Number of levels in category 'NUM_ESC': \b 700.00 \n",
      "REMOVED:  NUM_ESC\n",
      "Number of levels in category 'DDD': \b 3.00 \n",
      "Number of levels in category 'TELEFONE': \b 1180.00 \n",
      "REMOVED:  TELEFONE\n",
      "Number of levels in category 'INSE_CL': \b 5.00 \n"
     ]
    }
   ],
   "source": [
    "for cat in data.columns:\n",
    "    if data[cat].dtypes == 'object':\n",
    "        print(\"Number of levels in category '{0}': \\b {1:2.2f} \".format(cat, data[cat].unique().size))\n",
    "        if  data[cat].unique().size >= 10: \n",
    "            data.drop(cat, axis=1, inplace=True)\n",
    "            print(\"REMOVED: \", cat)"
   ]
  },
  {
   "cell_type": "raw",
   "metadata": {},
   "source": [
    "X.drop(['DEP', 'ZONA', 'EJATOTAL,,', 'TIPOESC', 'TIPO_EE'], axis=1, inplace=True)"
   ]
  },
  {
   "cell_type": "markdown",
   "metadata": {},
   "source": [
    "### looking for more possible categorical data"
   ]
  },
  {
   "cell_type": "code",
   "execution_count": 447,
   "metadata": {},
   "outputs": [
    {
     "name": "stdout",
     "output_type": "stream",
     "text": [
      "Number of levels in category 'CONCLUINTES_EF': 2.00 \n",
      "    Unique values: [ 0. nan]\n",
      "Number of levels in category 'ANO_y': 2.00 \n",
      "    Unique values: [2015.   nan]\n",
      "Number of levels in category 'SITUACAO': 1.00 \n",
      "    Unique values: [nan]\n",
      "Number of levels in category 'Qtde_Docentes': 1.00 \n",
      "    Unique values: [nan]\n",
      "Number of levels in category 'NUM_FUNC': 1.00 \n",
      "    Unique values: [nan]\n",
      "Number of levels in category '6fund': 2.00 \n",
      "    Unique values: [ 0. nan]\n",
      "Number of levels in category 'CLEM4S': 3.00 \n",
      "    Unique values: [ 0.  1. nan]\n",
      "Number of levels in category 'CLEMMU': 2.00 \n",
      "    Unique values: [ 0. nan]\n",
      "Number of levels in category 'ALEMMU': 2.00 \n",
      "    Unique values: [ 0. nan]\n"
     ]
    }
   ],
   "source": [
    "count = 0\n",
    "for cat in data.columns:\n",
    "    if data[cat].dtypes == 'object': continue\n",
    "    if data[cat].unique().size > 3: continue\n",
    "    count += 1\n",
    "    if count < 10: #if you want to print all columns, remove this condition\n",
    "        print(\"Number of levels in category '{0}': \\b {1:2.2f} \".format(cat, data[cat].unique().size))\n",
    "        print(\"    Unique values: \\b {}\".format(data[cat].unique()))"
   ]
  },
  {
   "cell_type": "markdown",
   "metadata": {},
   "source": [
    "We see that those are not categorical data but simply data with too many missing in general. We will deal with that later."
   ]
  },
  {
   "cell_type": "markdown",
   "metadata": {},
   "source": [
    "Now let us remove features with constant values"
   ]
  },
  {
   "cell_type": "code",
   "execution_count": 448,
   "metadata": {},
   "outputs": [
    {
     "name": "stdout",
     "output_type": "stream",
     "text": [
      "REMOVED variables: \n",
      "\n",
      " ['DEPADM', 'SITUACAO', 'MAIS EDUCACAO', 'Qtde_Docentes', 'NUM_FUNC', 'MERENDA', 'DTURNOS - EMEF', 'DTURNOS-EMEI', 'T2D3D - EMEI', 'COD_SC', 'ENS_REG', 'ESP_MED', 'ESP_MED_I', 'ESP_MED_N', 'ESP_MED_P', 'ESP_EJA_F', 'ESP_EJA_M', 'EJA_PROJ']\n"
     ]
    }
   ],
   "source": [
    "temp = []\n",
    "for col in data.columns:\n",
    "    if data[col].unique().size <= 1: \n",
    "        temp.append(col)\n",
    "        data.drop(col, axis=1, inplace=True)\n",
    "print(\"REMOVED variables: \\n\\n\", temp)"
   ]
  },
  {
   "cell_type": "code",
   "execution_count": 449,
   "metadata": {},
   "outputs": [
    {
     "name": "stdout",
     "output_type": "stream",
     "text": [
      "<class 'pandas.core.frame.DataFrame'>\n",
      "Int64Index: 1318 entries, 290 to 1317\n",
      "Columns: 441 entries, CODMEC to y\n",
      "dtypes: float64(428), int64(3), object(10)\n",
      "memory usage: 4.4+ MB\n"
     ]
    }
   ],
   "source": [
    "data.info()"
   ]
  },
  {
   "cell_type": "markdown",
   "metadata": {},
   "source": [
    "# Dealing with highly correlated variables\n",
    "We are going to delete variables with a correlation above some threshold with another variable"
   ]
  },
  {
   "cell_type": "code",
   "execution_count": 450,
   "metadata": {},
   "outputs": [],
   "source": [
    "def clear_correlated_data(dataset, threshold):\n",
    "    col_corr = set()\n",
    "    corr_matrix = dataset.corr()\n",
    "    for i in range(len(corr_matrix.columns)):\n",
    "        for j in range(i):\n",
    "            if (corr_matrix.iloc[i, j] >= abs(threshold)) and (corr_matrix.columns[j] not in col_corr):\n",
    "                colname = corr_matrix.columns[i]\n",
    "                col_corr.add(colname)\n",
    "                if colname in dataset.columns:\n",
    "                    del dataset[colname]\n",
    "    return dataset"
   ]
  },
  {
   "cell_type": "code",
   "execution_count": 451,
   "metadata": {},
   "outputs": [],
   "source": [
    "threshold = 0.8\n",
    "data = clear_correlated_data(data, threshold)"
   ]
  },
  {
   "cell_type": "markdown",
   "metadata": {},
   "source": [
    "### visualize correlations"
   ]
  },
  {
   "cell_type": "code",
   "execution_count": 452,
   "metadata": {},
   "outputs": [
    {
     "data": {
      "text/plain": [
       "<matplotlib.axes._subplots.AxesSubplot at 0x1c10b8ea160>"
      ]
     },
     "execution_count": 452,
     "metadata": {},
     "output_type": "execute_result"
    },
    {
     "data": {
      "image/png": "[encoded data removed]",
      "text/plain": [
       "<Figure size 864x648 with 2 Axes>"
      ]
     },
     "metadata": {
      "needs_background": "light"
     },
     "output_type": "display_data"
    }
   ],
   "source": [
    "#correlation matrix\n",
    "corrmatrix = data.corr()\n",
    "f, ax = plt.subplots(figsize=(12, 9))\n",
    "sns.heatmap(corrmatrix, square=True, center=0) #cmap=BrBG"
   ]
  },
  {
   "cell_type": "markdown",
   "metadata": {},
   "source": [
    "we see that more than 100 features were removed"
   ]
  },
  {
   "cell_type": "code",
   "execution_count": 453,
   "metadata": {},
   "outputs": [
    {
     "name": "stdout",
     "output_type": "stream",
     "text": [
      "<class 'pandas.core.frame.DataFrame'>\n",
      "Int64Index: 1318 entries, 290 to 1317\n",
      "Columns: 272 entries, CODMEC to y\n",
      "dtypes: float64(260), int64(2), object(10)\n",
      "memory usage: 2.7+ MB\n"
     ]
    }
   ],
   "source": [
    "data.info()"
   ]
  },
  {
   "cell_type": "markdown",
   "metadata": {},
   "source": [
    "# missing data"
   ]
  },
  {
   "cell_type": "code",
   "execution_count": 454,
   "metadata": {},
   "outputs": [
    {
     "data": {
      "text/html": [
       "<div>\n",
       "<style scoped>\n",
       "    .dataframe tbody tr th:only-of-type {\n",
       "        vertical-align: middle;\n",
       "    }\n",
       "\n",
       "    .dataframe tbody tr th {\n",
       "        vertical-align: top;\n",
       "    }\n",
       "\n",
       "    .dataframe thead th {\n",
       "        text-align: right;\n",
       "    }\n",
       "</style>\n",
       "<table border=\"1\" class=\"dataframe\">\n",
       "  <thead>\n",
       "    <tr style=\"text-align: right;\">\n",
       "      <th></th>\n",
       "      <th>total</th>\n",
       "      <th>percent</th>\n",
       "    </tr>\n",
       "  </thead>\n",
       "  <tbody>\n",
       "    <tr>\n",
       "      <th>MAT13_AI</th>\n",
       "      <td>1270</td>\n",
       "      <td>0.963581</td>\n",
       "    </tr>\n",
       "    <tr>\n",
       "      <th>T2D3D - EMEF</th>\n",
       "      <td>1238</td>\n",
       "      <td>0.939302</td>\n",
       "    </tr>\n",
       "    <tr>\n",
       "      <th>CODEOL</th>\n",
       "      <td>1237</td>\n",
       "      <td>0.938543</td>\n",
       "    </tr>\n",
       "    <tr>\n",
       "      <th>MAT11_AI</th>\n",
       "      <td>1177</td>\n",
       "      <td>0.893020</td>\n",
       "    </tr>\n",
       "    <tr>\n",
       "      <th>EE_Surdo_Cegueira_CRE</th>\n",
       "      <td>1134</td>\n",
       "      <td>0.860395</td>\n",
       "    </tr>\n",
       "    <tr>\n",
       "      <th>EE_Ret_CRE</th>\n",
       "      <td>1134</td>\n",
       "      <td>0.860395</td>\n",
       "    </tr>\n",
       "    <tr>\n",
       "      <th>EE_SUP_CRE</th>\n",
       "      <td>1134</td>\n",
       "      <td>0.860395</td>\n",
       "    </tr>\n",
       "    <tr>\n",
       "      <th>EE_Autismo_CRE</th>\n",
       "      <td>1134</td>\n",
       "      <td>0.860395</td>\n",
       "    </tr>\n",
       "    <tr>\n",
       "      <th>EE_BAUD_CRE</th>\n",
       "      <td>1134</td>\n",
       "      <td>0.860395</td>\n",
       "    </tr>\n",
       "    <tr>\n",
       "      <th>EE_MUL_CRE</th>\n",
       "      <td>1134</td>\n",
       "      <td>0.860395</td>\n",
       "    </tr>\n",
       "    <tr>\n",
       "      <th>EE_Asperger_CRE</th>\n",
       "      <td>1134</td>\n",
       "      <td>0.860395</td>\n",
       "    </tr>\n",
       "    <tr>\n",
       "      <th>EE_FIS_CRE</th>\n",
       "      <td>1134</td>\n",
       "      <td>0.860395</td>\n",
       "    </tr>\n",
       "    <tr>\n",
       "      <th>EE_TDI_CRE</th>\n",
       "      <td>1134</td>\n",
       "      <td>0.860395</td>\n",
       "    </tr>\n",
       "    <tr>\n",
       "      <th>TOT_EE_CRE</th>\n",
       "      <td>1134</td>\n",
       "      <td>0.860395</td>\n",
       "    </tr>\n",
       "    <tr>\n",
       "      <th>EE_AUD_CRE</th>\n",
       "      <td>1134</td>\n",
       "      <td>0.860395</td>\n",
       "    </tr>\n",
       "    <tr>\n",
       "      <th>EE_BVIS_CRE</th>\n",
       "      <td>1134</td>\n",
       "      <td>0.860395</td>\n",
       "    </tr>\n",
       "    <tr>\n",
       "      <th>EE_VIS_CRE</th>\n",
       "      <td>1134</td>\n",
       "      <td>0.860395</td>\n",
       "    </tr>\n",
       "    <tr>\n",
       "      <th>EE_Ret_EP</th>\n",
       "      <td>1112</td>\n",
       "      <td>0.843703</td>\n",
       "    </tr>\n",
       "    <tr>\n",
       "      <th>EE_Asperger_EP</th>\n",
       "      <td>1112</td>\n",
       "      <td>0.843703</td>\n",
       "    </tr>\n",
       "    <tr>\n",
       "      <th>EE_Autismo_EP</th>\n",
       "      <td>1112</td>\n",
       "      <td>0.843703</td>\n",
       "    </tr>\n",
       "  </tbody>\n",
       "</table>\n",
       "</div>"
      ],
      "text/plain": [
       "                       total   percent\n",
       "MAT13_AI                1270  0.963581\n",
       "T2D3D - EMEF            1238  0.939302\n",
       "CODEOL                  1237  0.938543\n",
       "MAT11_AI                1177  0.893020\n",
       "EE_Surdo_Cegueira_CRE   1134  0.860395\n",
       "EE_Ret_CRE              1134  0.860395\n",
       "EE_SUP_CRE              1134  0.860395\n",
       "EE_Autismo_CRE          1134  0.860395\n",
       "EE_BAUD_CRE             1134  0.860395\n",
       "EE_MUL_CRE              1134  0.860395\n",
       "EE_Asperger_CRE         1134  0.860395\n",
       "EE_FIS_CRE              1134  0.860395\n",
       "EE_TDI_CRE              1134  0.860395\n",
       "TOT_EE_CRE              1134  0.860395\n",
       "EE_AUD_CRE              1134  0.860395\n",
       "EE_BVIS_CRE             1134  0.860395\n",
       "EE_VIS_CRE              1134  0.860395\n",
       "EE_Ret_EP               1112  0.843703\n",
       "EE_Asperger_EP          1112  0.843703\n",
       "EE_Autismo_EP           1112  0.843703"
      ]
     },
     "execution_count": 454,
     "metadata": {},
     "output_type": "execute_result"
    }
   ],
   "source": [
    "total = data.isnull().sum().sort_values(ascending=False)\n",
    "percent = (data.isnull().sum()/data.isnull().count()).sort_values(ascending=False)\n",
    "missing_data = pd.concat([total, percent], axis=1, keys=['total', 'percent'])\n",
    "missing_data.head(20)"
   ]
  },
  {
   "cell_type": "markdown",
   "metadata": {},
   "source": [
    "removing variables if missing data > 80%"
   ]
  },
  {
   "cell_type": "raw",
   "metadata": {},
   "source": [
    "data_bak = data.copy()"
   ]
  },
  {
   "cell_type": "code",
   "execution_count": 455,
   "metadata": {},
   "outputs": [],
   "source": [
    "data.drop((missing_data[missing_data['percent'] > 0.7]).index,1, inplace=True)"
   ]
  },
  {
   "cell_type": "code",
   "execution_count": 456,
   "metadata": {},
   "outputs": [
    {
     "name": "stdout",
     "output_type": "stream",
     "text": [
      "<class 'pandas.core.frame.DataFrame'>\n",
      "Int64Index: 1318 entries, 290 to 1317\n",
      "Columns: 223 entries, CODMEC to y\n",
      "dtypes: float64(212), int64(2), object(9)\n",
      "memory usage: 2.3+ MB\n"
     ]
    }
   ],
   "source": [
    "data.info()"
   ]
  },
  {
   "cell_type": "markdown",
   "metadata": {},
   "source": [
    "# machine learning"
   ]
  },
  {
   "cell_type": "code",
   "execution_count": 457,
   "metadata": {},
   "outputs": [],
   "source": [
    "import warnings; warnings.simplefilter('ignore')"
   ]
  },
  {
   "cell_type": "code",
   "execution_count": 475,
   "metadata": {},
   "outputs": [],
   "source": [
    "from sklearn.preprocessing import StandardScaler, Imputer\n",
    "from sklearn.pipeline import Pipeline\n",
    "from sklearn.model_selection import train_test_split, GridSearchCV\n",
    "#from sklearn.model_selection import GridSearchCV\n",
    "from sklearn.metrics import classification_report, roc_curve, roc_auc_score, confusion_matrix, accuracy_score\n",
    "#from sklearn.metrics import log_loss"
   ]
  },
  {
   "cell_type": "markdown",
   "metadata": {},
   "source": [
    "### split data"
   ]
  },
  {
   "cell_type": "code",
   "execution_count": 484,
   "metadata": {},
   "outputs": [],
   "source": [
    "X = data.iloc[:, 4:-1]"
   ]
  },
  {
   "cell_type": "code",
   "execution_count": 485,
   "metadata": {
    "scrolled": true
   },
   "outputs": [
    {
     "data": {
      "text/html": [
       "<div>\n",
       "<style scoped>\n",
       "    .dataframe tbody tr th:only-of-type {\n",
       "        vertical-align: middle;\n",
       "    }\n",
       "\n",
       "    .dataframe tbody tr th {\n",
       "        vertical-align: top;\n",
       "    }\n",
       "\n",
       "    .dataframe thead th {\n",
       "        text-align: right;\n",
       "    }\n",
       "</style>\n",
       "<table border=\"1\" class=\"dataframe\">\n",
       "  <thead>\n",
       "    <tr style=\"text-align: right;\">\n",
       "      <th></th>\n",
       "      <th>EFABAND9ANOS1S</th>\n",
       "      <th>EFABAND9ANOS2S</th>\n",
       "      <th>EFABAND9ANOS3S</th>\n",
       "      <th>EFABAND9ANOS4S</th>\n",
       "      <th>EFABAND9ANOS5S</th>\n",
       "      <th>EFABAND9ANOS6S</th>\n",
       "      <th>EFABAND9ANOS7S</th>\n",
       "      <th>EFABAND9ANOS8S</th>\n",
       "      <th>EFABAND9ANOS9S</th>\n",
       "      <th>EFABAND1S</th>\n",
       "      <th>...</th>\n",
       "      <th>DI3EM_11</th>\n",
       "      <th>DI3EM_12</th>\n",
       "      <th>DI3EM_13</th>\n",
       "      <th>DI3EM_14</th>\n",
       "      <th>MAT07_AF</th>\n",
       "      <th>MAT09_AF</th>\n",
       "      <th>MAT11_AF</th>\n",
       "      <th>LP13_AF</th>\n",
       "      <th>RED_EN13</th>\n",
       "      <th>INSE_CL</th>\n",
       "    </tr>\n",
       "  </thead>\n",
       "  <tbody>\n",
       "    <tr>\n",
       "      <th>290</th>\n",
       "      <td>0.0</td>\n",
       "      <td>0.0</td>\n",
       "      <td>0.0</td>\n",
       "      <td>0.0</td>\n",
       "      <td>0.0</td>\n",
       "      <td>0.0</td>\n",
       "      <td>0.0</td>\n",
       "      <td>0.0</td>\n",
       "      <td>0.0</td>\n",
       "      <td>0.0</td>\n",
       "      <td>...</td>\n",
       "      <td>NaN</td>\n",
       "      <td>5.3</td>\n",
       "      <td>1.7</td>\n",
       "      <td>2.3</td>\n",
       "      <td>NaN</td>\n",
       "      <td>NaN</td>\n",
       "      <td>NaN</td>\n",
       "      <td>NaN</td>\n",
       "      <td>617.67</td>\n",
       "      <td>Muito Alto</td>\n",
       "    </tr>\n",
       "    <tr>\n",
       "      <th>435</th>\n",
       "      <td>0.0</td>\n",
       "      <td>0.0</td>\n",
       "      <td>0.0</td>\n",
       "      <td>0.0</td>\n",
       "      <td>0.0</td>\n",
       "      <td>0.0</td>\n",
       "      <td>0.0</td>\n",
       "      <td>0.0</td>\n",
       "      <td>0.0</td>\n",
       "      <td>0.0</td>\n",
       "      <td>...</td>\n",
       "      <td>5.3</td>\n",
       "      <td>8.3</td>\n",
       "      <td>2.8</td>\n",
       "      <td>3.8</td>\n",
       "      <td>NaN</td>\n",
       "      <td>NaN</td>\n",
       "      <td>NaN</td>\n",
       "      <td>NaN</td>\n",
       "      <td>641.93</td>\n",
       "      <td>Muito Alto</td>\n",
       "    </tr>\n",
       "    <tr>\n",
       "      <th>383</th>\n",
       "      <td>0.0</td>\n",
       "      <td>0.0</td>\n",
       "      <td>0.0</td>\n",
       "      <td>0.0</td>\n",
       "      <td>0.0</td>\n",
       "      <td>0.0</td>\n",
       "      <td>0.0</td>\n",
       "      <td>0.0</td>\n",
       "      <td>0.0</td>\n",
       "      <td>0.0</td>\n",
       "      <td>...</td>\n",
       "      <td>7.8</td>\n",
       "      <td>4.2</td>\n",
       "      <td>1.8</td>\n",
       "      <td>6.9</td>\n",
       "      <td>NaN</td>\n",
       "      <td>NaN</td>\n",
       "      <td>NaN</td>\n",
       "      <td>NaN</td>\n",
       "      <td>546.22</td>\n",
       "      <td>Alto</td>\n",
       "    </tr>\n",
       "    <tr>\n",
       "      <th>384</th>\n",
       "      <td>0.0</td>\n",
       "      <td>0.0</td>\n",
       "      <td>0.0</td>\n",
       "      <td>0.0</td>\n",
       "      <td>0.0</td>\n",
       "      <td>0.0</td>\n",
       "      <td>0.0</td>\n",
       "      <td>0.0</td>\n",
       "      <td>0.0</td>\n",
       "      <td>0.0</td>\n",
       "      <td>...</td>\n",
       "      <td>NaN</td>\n",
       "      <td>NaN</td>\n",
       "      <td>6.5</td>\n",
       "      <td>5.0</td>\n",
       "      <td>NaN</td>\n",
       "      <td>NaN</td>\n",
       "      <td>NaN</td>\n",
       "      <td>NaN</td>\n",
       "      <td>590.77</td>\n",
       "      <td>Alto</td>\n",
       "    </tr>\n",
       "    <tr>\n",
       "      <th>385</th>\n",
       "      <td>0.0</td>\n",
       "      <td>0.0</td>\n",
       "      <td>0.0</td>\n",
       "      <td>0.0</td>\n",
       "      <td>0.0</td>\n",
       "      <td>0.0</td>\n",
       "      <td>0.0</td>\n",
       "      <td>0.0</td>\n",
       "      <td>0.0</td>\n",
       "      <td>0.0</td>\n",
       "      <td>...</td>\n",
       "      <td>9.8</td>\n",
       "      <td>10.4</td>\n",
       "      <td>9.5</td>\n",
       "      <td>9.2</td>\n",
       "      <td>NaN</td>\n",
       "      <td>NaN</td>\n",
       "      <td>NaN</td>\n",
       "      <td>NaN</td>\n",
       "      <td>564.75</td>\n",
       "      <td>Muito Alto</td>\n",
       "    </tr>\n",
       "  </tbody>\n",
       "</table>\n",
       "<p>5 rows × 218 columns</p>\n",
       "</div>"
      ],
      "text/plain": [
       "     EFABAND9ANOS1S  EFABAND9ANOS2S  EFABAND9ANOS3S  EFABAND9ANOS4S  \\\n",
       "290             0.0             0.0             0.0             0.0   \n",
       "435             0.0             0.0             0.0             0.0   \n",
       "383             0.0             0.0             0.0             0.0   \n",
       "384             0.0             0.0             0.0             0.0   \n",
       "385             0.0             0.0             0.0             0.0   \n",
       "\n",
       "     EFABAND9ANOS5S  EFABAND9ANOS6S  EFABAND9ANOS7S  EFABAND9ANOS8S  \\\n",
       "290             0.0             0.0             0.0             0.0   \n",
       "435             0.0             0.0             0.0             0.0   \n",
       "383             0.0             0.0             0.0             0.0   \n",
       "384             0.0             0.0             0.0             0.0   \n",
       "385             0.0             0.0             0.0             0.0   \n",
       "\n",
       "     EFABAND9ANOS9S  EFABAND1S  ...  DI3EM_11  DI3EM_12  DI3EM_13  DI3EM_14  \\\n",
       "290             0.0        0.0  ...       NaN       5.3       1.7       2.3   \n",
       "435             0.0        0.0  ...       5.3       8.3       2.8       3.8   \n",
       "383             0.0        0.0  ...       7.8       4.2       1.8       6.9   \n",
       "384             0.0        0.0  ...       NaN       NaN       6.5       5.0   \n",
       "385             0.0        0.0  ...       9.8      10.4       9.5       9.2   \n",
       "\n",
       "     MAT07_AF  MAT09_AF  MAT11_AF  LP13_AF  RED_EN13     INSE_CL  \n",
       "290       NaN       NaN       NaN      NaN    617.67  Muito Alto  \n",
       "435       NaN       NaN       NaN      NaN    641.93  Muito Alto  \n",
       "383       NaN       NaN       NaN      NaN    546.22        Alto  \n",
       "384       NaN       NaN       NaN      NaN    590.77        Alto  \n",
       "385       NaN       NaN       NaN      NaN    564.75  Muito Alto  \n",
       "\n",
       "[5 rows x 218 columns]"
      ]
     },
     "execution_count": 485,
     "metadata": {},
     "output_type": "execute_result"
    }
   ],
   "source": [
    "X.head()"
   ]
  },
  {
   "cell_type": "code",
   "execution_count": 486,
   "metadata": {},
   "outputs": [],
   "source": [
    "y = data.iloc[:, -1:]"
   ]
  },
  {
   "cell_type": "markdown",
   "metadata": {},
   "source": [
    "Removing categorical data. A better option would be to use one-hot-encoding, but I already have too many variables and this type of feature engineering would take some days to work on."
   ]
  },
  {
   "cell_type": "code",
   "execution_count": 487,
   "metadata": {},
   "outputs": [],
   "source": [
    "X.drop(['TIPO_EE', 'EJATOTAL,,', 'TIPOESC', ], axis=1, inplace=True) #'DEP', 'ZONA'"
   ]
  },
  {
   "cell_type": "code",
   "execution_count": 488,
   "metadata": {},
   "outputs": [],
   "source": [
    "X.drop(['TIP_DEP', 'DDD', 'INSE_CL'],  axis=1, inplace=True) #"
   ]
  },
  {
   "cell_type": "markdown",
   "metadata": {},
   "source": [
    "### split train test"
   ]
  },
  {
   "cell_type": "code",
   "execution_count": 489,
   "metadata": {},
   "outputs": [],
   "source": [
    "X_train, X_test, y_train, y_test = train_test_split(X,y,test_size=0.3, random_state=42)"
   ]
  },
  {
   "cell_type": "markdown",
   "metadata": {},
   "source": [
    "## pipelines with preprocessing steps and crossvalidation\n",
    "Preprocessing steps:\n",
    "* StandardScaler will standardize data\n",
    "* Imputer will deal with missing data\n",
    "\n",
    "gridsearchcv works great with pipeline. So we are going to use it to find the best parameters."
   ]
  },
  {
   "cell_type": "markdown",
   "metadata": {},
   "source": [
    "## baseline classifier"
   ]
  },
  {
   "cell_type": "markdown",
   "metadata": {},
   "source": [
    "We will start prediction with SVM as our baseline"
   ]
  },
  {
   "cell_type": "code",
   "execution_count": 490,
   "metadata": {},
   "outputs": [],
   "source": [
    "from sklearn.svm import SVC"
   ]
  },
  {
   "cell_type": "code",
   "execution_count": 491,
   "metadata": {},
   "outputs": [
    {
     "name": "stdout",
     "output_type": "stream",
     "text": [
      "\n",
      "TUNED MODEL PARAMETERS:\n",
      " {'svm__C': 10, 'svm__gamma': 0.01}\n",
      "\n",
      "TUNED ACCURACY:\n",
      " 0.7321041214750542\n"
     ]
    }
   ],
   "source": [
    "# Setup the pipeline\n",
    "steps = [('imputation', Imputer(strategy='mean', axis=0)),\n",
    "         ('scaler', StandardScaler()),\n",
    "         ('svm', SVC())]\n",
    "\n",
    "pipeline = Pipeline(steps)\n",
    "\n",
    "# Specify the hyperparameter space\n",
    "parameters = {'svm__C':[1, 10, 100],\n",
    "              'svm__gamma':[0.1, 0.01]}\n",
    "\n",
    "# Instantiate the GridSearchCV object: clf_svm\n",
    "clf_svm = GridSearchCV(pipeline,parameters, cv=5)\n",
    "\n",
    "# Fit to the training set\n",
    "clf_svm.fit(X_train, y_train)\n",
    "\n",
    "# Compute and print metrics\n",
    "print(\"\\nTUNED MODEL PARAMETERS:\\n {}\".format(clf_svm.best_params_))\n",
    "print(\"\\nTUNED ACCURACY:\\n {}\".format(clf_svm.best_score_))"
   ]
  },
  {
   "cell_type": "markdown",
   "metadata": {},
   "source": [
    "an alternative for imputation would be to drop rows when missing"
   ]
  },
  {
   "cell_type": "code",
   "execution_count": 492,
   "metadata": {},
   "outputs": [],
   "source": [
    "data_nomissing = data.dropna()"
   ]
  },
  {
   "cell_type": "markdown",
   "metadata": {},
   "source": [
    "but in this case we reduce the dataset to just 82 entries. So we won't do that."
   ]
  },
  {
   "cell_type": "code",
   "execution_count": 493,
   "metadata": {},
   "outputs": [
    {
     "name": "stdout",
     "output_type": "stream",
     "text": [
      "<class 'pandas.core.frame.DataFrame'>\n",
      "Int64Index: 0 entries\n",
      "Columns: 223 entries, CODMEC to y\n",
      "dtypes: float64(212), int64(2), object(9)\n",
      "memory usage: 0.0+ bytes\n"
     ]
    }
   ],
   "source": [
    "data_nomissing.info()"
   ]
  },
  {
   "cell_type": "markdown",
   "metadata": {},
   "source": [
    "we could drop columns instead of rows, but there would remain too few features. The code for doing this is:\n",
    "* total = data.isnull().sum().sort_values(ascending=False)\n",
    "* missing_data = pd.concat([total], axis=1, keys=['total'])\n",
    "* data_nomissing = data.drop((missing_data[missing_data['total'] > 1]).index,1)"
   ]
  },
  {
   "cell_type": "markdown",
   "metadata": {},
   "source": [
    "So we are going to test with other ML models, then choose best parameters with crossvalidation, then choose the best model."
   ]
  },
  {
   "cell_type": "markdown",
   "metadata": {},
   "source": [
    "# other classifiers"
   ]
  },
  {
   "cell_type": "code",
   "execution_count": 494,
   "metadata": {},
   "outputs": [],
   "source": [
    "from sklearn.linear_model import LogisticRegression"
   ]
  },
  {
   "cell_type": "code",
   "execution_count": 495,
   "metadata": {},
   "outputs": [
    {
     "name": "stdout",
     "output_type": "stream",
     "text": [
      "\n",
      "TUNED MODEL PARAMETERS:\n",
      " {'logreg__C': 0.01, 'logreg__penalty': 'l2', 'logreg__random_state': 42}\n",
      "\n",
      "TUNED ACCURACY:\n",
      " 0.7559652928416486\n"
     ]
    }
   ],
   "source": [
    "# Setup the pipeline\n",
    "steps = [('imputation', Imputer(strategy='median', axis=0)),\n",
    "         ('scaler', StandardScaler()),\n",
    "         ('logreg', LogisticRegression())]\n",
    "\n",
    "pipeline = Pipeline(steps)\n",
    "\n",
    "#LogisticRegression()\n",
    "\n",
    "# Specify the hyperparameter space\n",
    "c_space = np.logspace(-5, 1, 5)\n",
    "parameters = {'logreg__C': c_space, \n",
    "              'logreg__penalty': ['l1', 'l2'],\n",
    "              'logreg__random_state':[42]}\n",
    "\n",
    "# Instantiate the GridSearchCV object: cv\n",
    "clf_logreg = GridSearchCV(pipeline,parameters, cv=5)\n",
    "\n",
    "# Fit to the training set\n",
    "clf_logreg.fit(X_train, y_train)\n",
    "\n",
    "# Compute and print metrics\n",
    "print(\"\\nTUNED MODEL PARAMETERS:\\n {}\".format(clf_logreg.best_params_))\n",
    "print(\"\\nTUNED ACCURACY:\\n {}\".format(clf_logreg.best_score_))"
   ]
  },
  {
   "cell_type": "code",
   "execution_count": 496,
   "metadata": {},
   "outputs": [],
   "source": [
    "from sklearn.ensemble import RandomForestClassifier"
   ]
  },
  {
   "cell_type": "code",
   "execution_count": 497,
   "metadata": {},
   "outputs": [
    {
     "name": "stdout",
     "output_type": "stream",
     "text": [
      "\n",
      "TUNED MODEL PARAMETERS:\n",
      " {'rfc__max_features': None, 'rfc__n_estimators': 300, 'rfc__random_state': 42}\n",
      "\n",
      "TUNED ACCURACY:\n",
      " 0.7874186550976139\n"
     ]
    }
   ],
   "source": [
    "# Setup the pipeline\n",
    "steps = [('imputation', Imputer(strategy='median', axis=0)),\n",
    "         ('scaler', StandardScaler()),\n",
    "         ('rfc', RandomForestClassifier())]\n",
    "\n",
    "pipeline = Pipeline(steps)\n",
    "\n",
    "# Specify the hyperparameter space\n",
    "parameters = {'rfc__max_features':[1, 2, \"auto\", \"log2\", None],\n",
    "              'rfc__n_estimators':[300],\n",
    "              'rfc__random_state':[42]}\n",
    "\n",
    "# Instantiate the GridSearchCV object: clf_rforest\n",
    "clf_rforest = GridSearchCV(pipeline,parameters, cv=5)\n",
    "\n",
    "# Fit to the training set\n",
    "clf_rforest.fit(X_train, y_train)\n",
    "\n",
    "# Compute and print metrics\n",
    "print(\"\\nTUNED MODEL PARAMETERS:\\n {}\".format(clf_rforest.best_params_))\n",
    "print(\"\\nTUNED ACCURACY:\\n {}\".format(clf_rforest.best_score_))"
   ]
  },
  {
   "cell_type": "code",
   "execution_count": 498,
   "metadata": {},
   "outputs": [],
   "source": [
    "from sklearn.ensemble import AdaBoostClassifier"
   ]
  },
  {
   "cell_type": "code",
   "execution_count": 499,
   "metadata": {},
   "outputs": [
    {
     "name": "stdout",
     "output_type": "stream",
     "text": [
      "\n",
      "TUNED MODEL PARAMETERS:\n",
      " {'adaboost__n_estimators': 300, 'adaboost__random_state': 42}\n",
      "\n",
      "TUNED ACCURACY:\n",
      " 0.737527114967462\n"
     ]
    }
   ],
   "source": [
    "# Setup the pipeline\n",
    "steps = [('imputation', Imputer(strategy='median', axis=0)),\n",
    "         ('scaler', StandardScaler()),\n",
    "         ('adaboost', AdaBoostClassifier())]\n",
    "\n",
    "pipeline = Pipeline(steps)\n",
    "\n",
    "# Specify the hyperparameter space\n",
    "parameters = {'adaboost__n_estimators':[300],\n",
    "              'adaboost__random_state':[42]}\n",
    "\n",
    "# Instantiate the GridSearchCV object: clf_adaboost\n",
    "clf_adaboost = GridSearchCV(pipeline,parameters, cv=5)\n",
    "\n",
    "# Fit to the training set\n",
    "clf_adaboost.fit(X_train, y_train)\n",
    "\n",
    "# Compute and print metrics\n",
    "print(\"\\nTUNED MODEL PARAMETERS:\\n {}\".format(clf_adaboost.best_params_))\n",
    "print(\"\\nTUNED ACCURACY:\\n {}\".format(clf_adaboost.best_score_))"
   ]
  },
  {
   "cell_type": "code",
   "execution_count": 500,
   "metadata": {},
   "outputs": [],
   "source": [
    "from sklearn.ensemble import GradientBoostingClassifier"
   ]
  },
  {
   "cell_type": "code",
   "execution_count": 501,
   "metadata": {},
   "outputs": [
    {
     "name": "stdout",
     "output_type": "stream",
     "text": [
      "\n",
      "TUNED MODEL PARAMETERS:\n",
      " {'gbc__loss': 'deviance', 'gbc__max_features': 'log2', 'gbc__n_estimators': 300, 'gbc__random_state': 42}\n",
      "\n",
      "TUNED ACCURACY:\n",
      " 0.7733188720173536\n"
     ]
    }
   ],
   "source": [
    "# Setup the pipeline\n",
    "steps = [('imputation', Imputer(strategy='median', axis=0)),\n",
    "         ('scaler', StandardScaler()),\n",
    "         ('gbc', GradientBoostingClassifier())]\n",
    "\n",
    "pipeline = Pipeline(steps)\n",
    " \n",
    "# Specify the hyperparameter space\n",
    "parameters = {'gbc__max_features':[1, 2, \"auto\", \"log2\", None],\n",
    "              'gbc__n_estimators':[300],\n",
    "              'gbc__loss':['deviance'],\n",
    "              'gbc__random_state':[42]}\n",
    "\n",
    "# Instantiate the GridSearchCV object: clf_gbc\n",
    "clf_gbc = GridSearchCV(pipeline,parameters, cv=5)\n",
    "\n",
    "# Fit to the training set\n",
    "clf_gbc.fit(X_train, y_train)\n",
    "\n",
    "# Compute and print metrics\n",
    "print(\"\\nTUNED MODEL PARAMETERS:\\n {}\".format(clf_gbc.best_params_))\n",
    "print(\"\\nTUNED ACCURACY:\\n {}\".format(clf_gbc.best_score_))"
   ]
  },
  {
   "cell_type": "code",
   "execution_count": 502,
   "metadata": {},
   "outputs": [],
   "source": [
    "from sklearn.neighbors import KNeighborsClassifier"
   ]
  },
  {
   "cell_type": "code",
   "execution_count": 503,
   "metadata": {},
   "outputs": [
    {
     "name": "stdout",
     "output_type": "stream",
     "text": [
      "\n",
      "TUNED MODEL PARAMETERS:\n",
      " {'knn__algorithm': 'auto', 'knn__n_neighbors': 5, 'knn__weights': 'distance'}\n",
      "\n",
      "TUNED ACCURACY:\n",
      " 0.7472885032537961\n"
     ]
    }
   ],
   "source": [
    "# Setup the pipeline\n",
    "steps = [('imputation', Imputer(strategy='median', axis=0)),\n",
    "         ('scaler', StandardScaler()),\n",
    "         ('knn', KNeighborsClassifier())]\n",
    "\n",
    "pipeline = Pipeline(steps)\n",
    " \n",
    "# Specify the hyperparameter space\n",
    "parameters = {'knn__n_neighbors':[1, 3, 5, 10, 15, 20, 50],\n",
    "              'knn__weights':['uniform', 'distance'],\n",
    "              'knn__algorithm':['auto']}\n",
    "\n",
    "# Instantiate the GridSearchCV object: clf_knn\n",
    "clf_knn = GridSearchCV(pipeline,parameters, cv=5)\n",
    "\n",
    "# Fit to the training set\n",
    "clf_knn.fit(X_train, y_train)\n",
    "\n",
    "# Compute and print metrics\n",
    "print(\"\\nTUNED MODEL PARAMETERS:\\n {}\".format(clf_knn.best_params_))\n",
    "print(\"\\nTUNED ACCURACY:\\n {}\".format(clf_knn.best_score_))"
   ]
  },
  {
   "cell_type": "markdown",
   "metadata": {},
   "source": [
    "# Plot results"
   ]
  },
  {
   "cell_type": "code",
   "execution_count": 504,
   "metadata": {},
   "outputs": [],
   "source": [
    "dic_results = {}\n",
    "dic_results['svm']= clf_svm.best_score_\n",
    "dic_results['logistic regression']= clf_logreg.best_score_\n",
    "dic_results['random forest']= clf_rforest.best_score_\n",
    "dic_results['adaboost']= clf_adaboost.best_score_\n",
    "dic_results['gradient boosting']= clf_gbc.best_score_\n",
    "dic_results['knn']= clf_knn.best_score_"
   ]
  },
  {
   "cell_type": "code",
   "execution_count": 505,
   "metadata": {
    "scrolled": true
   },
   "outputs": [
    {
     "data": {
      "image/png": "[encoded data removed]",
      "text/plain": [
       "<Figure size 576x144 with 1 Axes>"
      ]
     },
     "metadata": {
      "needs_background": "light"
     },
     "output_type": "display_data"
    }
   ],
   "source": [
    "import operator\n",
    "tup_results = sorted(dic_results.items(), key=operator.itemgetter(1))\n",
    "\n",
    "N = len(dic_results)\n",
    "ind = np.arange(N)  # the x locations for the groups\n",
    "width = 0.40       # the width of the bars\n",
    "\n",
    "fig = plt.figure(figsize=(8,2))\n",
    "ax = fig.add_subplot(111)\n",
    "rects = ax.bar(ind+0.5, list(zip(*tup_results))[1], width,)\n",
    "for rect in rects:\n",
    "    height = rect.get_height()\n",
    "    ax.text(rect.get_x()+rect.get_width()/2., \n",
    "            1.005*height, \n",
    "            '{0:.4f}'.format(height), \n",
    "            ha='center', \n",
    "            va='bottom',)\n",
    "\n",
    "ax.set_ylabel('Score')\n",
    "ax.set_xlabel('ML model')\n",
    "ax.set_ylim(ymin=0.0,ymax = 1)\n",
    "ax.set_title(\"Accuracy Comparison\")\n",
    "ax.set_xticks(ind + width/2.)\n",
    "ax.set_xticklabels(list(zip(*tup_results))[0], rotation=22)\n",
    "\n",
    "plt.show()"
   ]
  },
  {
   "cell_type": "markdown",
   "metadata": {},
   "source": [
    "# calculate final accuracy with a test set"
   ]
  },
  {
   "cell_type": "markdown",
   "metadata": {},
   "source": [
    "So we see that the best validated model is Logistic Regression. We will now test it on the test set. We could also compare with other models with their respective best params."
   ]
  },
  {
   "cell_type": "markdown",
   "metadata": {},
   "source": [
    "### get best params of regressor\n",
    "this was previously obtained during cross validation step"
   ]
  },
  {
   "cell_type": "code",
   "execution_count": 506,
   "metadata": {},
   "outputs": [
    {
     "data": {
      "text/plain": [
       "{'max_features': None, 'n_estimators': 300, 'random_state': 42}"
      ]
     },
     "execution_count": 506,
     "metadata": {},
     "output_type": "execute_result"
    }
   ],
   "source": [
    "params = {}\n",
    "for k,v in clf_rforest.best_params_.items():\n",
    "    k = k[5:]\n",
    "    params[k] = v\n",
    "params"
   ]
  },
  {
   "cell_type": "markdown",
   "metadata": {},
   "source": [
    "### do prediction with best classifier"
   ]
  },
  {
   "cell_type": "code",
   "execution_count": 507,
   "metadata": {},
   "outputs": [],
   "source": [
    "#transform X_train\n",
    "scale = StandardScaler().fit(X_train)\n",
    "X_train_scaled = scale.transform(X_train)\n",
    "imputation = Imputer(strategy='median', axis=0).fit(X_train_scaled)\n",
    "X_train_nomissing = imputation.transform(X_train_scaled)\n",
    "\n",
    "#transform X_test\n",
    "scale = StandardScaler().fit(X_test)\n",
    "X_test_scaled = scale.transform(X_test)\n",
    "imputation = Imputer(strategy='median', axis=0).fit(X_test_scaled)\n",
    "X_test_nomissing = imputation.transform(X_test_scaled)\n",
    "\n",
    "#instantiate regressor with best params\n",
    "clf_logreg_validated = RandomForestClassifier(max_features = params['max_features'], n_estimators = params['n_estimators'], random_state = params['random_state'])\n",
    "\n",
    "#fit regressor\n",
    "clf_logreg_validated.fit(X_train_nomissing, y_train)\n",
    "\n",
    "#do prediction on test set\n",
    "y_pred = clf_logreg_validated.predict(X_test_nomissing)"
   ]
  },
  {
   "cell_type": "markdown",
   "metadata": {},
   "source": [
    "### calculate accuracy on test set"
   ]
  },
  {
   "cell_type": "code",
   "execution_count": 508,
   "metadata": {},
   "outputs": [
    {
     "data": {
      "text/plain": [
       "0.7651515151515151"
      ]
     },
     "execution_count": 508,
     "metadata": {},
     "output_type": "execute_result"
    }
   ],
   "source": [
    "accuracy_score(y_test, y_pred)"
   ]
  },
  {
   "cell_type": "markdown",
   "metadata": {},
   "source": [
    "### classification report"
   ]
  },
  {
   "cell_type": "code",
   "execution_count": 509,
   "metadata": {},
   "outputs": [
    {
     "name": "stdout",
     "output_type": "stream",
     "text": [
      "\n",
      "CLASSIFICATION_REPORT:\n",
      "               precision    recall  f1-score   support\n",
      "\n",
      "           1       0.75      0.63      0.68        81\n",
      "           2       0.80      0.90      0.85       261\n",
      "           3       0.36      0.23      0.28        35\n",
      "           4       0.71      0.53      0.61        19\n",
      "\n",
      "    accuracy                           0.77       396\n",
      "   macro avg       0.66      0.57      0.60       396\n",
      "weighted avg       0.75      0.77      0.75       396\n",
      "\n"
     ]
    }
   ],
   "source": [
    "print(\"\\nCLASSIFICATION_REPORT:\\n\", classification_report(y_test, y_pred))"
   ]
  },
  {
   "cell_type": "code",
   "execution_count": null,
   "metadata": {},
   "outputs": [],
   "source": []
  }
 ],
 "metadata": {
  "kernelspec": {
   "display_name": "Python 3",
   "language": "python",
   "name": "python3"
  },
  "language_info": {
   "codemirror_mode": {
    "name": "ipython",
    "version": 3
   },
   "file_extension": ".py",
   "mimetype": "text/x-python",
   "name": "python",
   "nbconvert_exporter": "python",
   "pygments_lexer": "ipython3",
   "version": "3.7.1"
  }
 },
 "nbformat": 4,
 "nbformat_minor": 2
}
