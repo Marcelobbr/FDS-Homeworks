{
 "cells": [
  {
   "cell_type": "code",
   "execution_count": 1,
   "metadata": {},
   "outputs": [],
   "source": [
    "import os\n",
    "import pandas as pd\n",
    "import seaborn as sns\n",
    "import pickle\n",
    "import numpy as np\n",
    "import statsmodels.api as sm\n",
    "import matplotlib\n",
    "import matplotlib.pyplot as plt\n",
    "\n",
    "%matplotlib inline"
   ]
  },
  {
   "cell_type": "markdown",
   "metadata": {},
   "source": [
    "# get data"
   ]
  },
  {
   "cell_type": "code",
   "execution_count": 2,
   "metadata": {},
   "outputs": [],
   "source": [
    "datapath = r\"./data/\"\n",
    "#outputs = \"../outputs/\""
   ]
  },
  {
   "cell_type": "code",
   "execution_count": null,
   "metadata": {},
   "outputs": [],
   "source": [
    "#df_train = pd.read_csv(os.path.join(datapath,'ESC2013_RMSP_CEM.csv'))\n",
    "#df_train = pd.read_csv(os.path.join(datapath,'RendimentoEscolar2000-2015.csv')) #, encoding='latin-1'\n",
    "#df_test = pd.read_csv(os.path.join(datapath,'ENEM2015.csv'))"
   ]
  },
  {
   "cell_type": "code",
   "execution_count": 3,
   "metadata": {},
   "outputs": [
    {
     "name": "stderr",
     "output_type": "stream",
     "text": [
      "D:\\Users\\Marcelo\\Anaconda3\\lib\\site-packages\\IPython\\core\\interactiveshell.py:3058: DtypeWarning: Columns (4) have mixed types. Specify dtype option on import or set low_memory=False.\n",
      "  interactivity=interactivity, compiler=compiler, result=result)\n"
     ]
    }
   ],
   "source": [
    "#df_train = pd.read_csv(os.path.join(datapath,'ESC2013_RMSP_CEM.csv'))\n",
    "data = pd.read_csv(os.path.join(datapath,'RendimentoEscolar2000-2015.csv')) #, encoding='latin-1'\n",
    "\n",
    "enem = pd.read_csv(os.path.join(datapath,'ENEM2015.csv'))\n",
    "enem.rename(columns={'Classificacao':'y', 'CODIGO DA ENTIDADE': 'CODMEC'}, inplace=True)"
   ]
  },
  {
   "cell_type": "code",
   "execution_count": 126,
   "metadata": {},
   "outputs": [],
   "source": [
    "dados_escolares = pd.read_csv(os.path.join(datapath,'DadosEscolares1996-2015.csv'))  #, encoding='latin-1'\n",
    "dados_escolares.drop(['DEP', 'NOME', 'SETEDU', 'DISTRITO07', 'SUBPREF', 'CORED', 'ZONA'], axis=1, inplace=True)"
   ]
  },
  {
   "cell_type": "code",
   "execution_count": 127,
   "metadata": {},
   "outputs": [],
   "source": [
    "esc = pd.read_csv(os.path.join(datapath,'ESC2013_RMSP_CEM.csv'))  #, encoding='latin-1'"
   ]
  },
  {
   "cell_type": "raw",
   "metadata": {},
   "source": [
    "esc.head()"
   ]
  },
  {
   "cell_type": "markdown",
   "metadata": {},
   "source": [
    "activate this to detect duplicate columns\n",
    "* for c in list(df_train.columns):\n",
    "*    if c.endswith('x'):\n",
    "*        print(c)"
   ]
  },
  {
   "cell_type": "markdown",
   "metadata": {},
   "source": [
    "keep dados_escolares only for year 2015"
   ]
  },
  {
   "cell_type": "code",
   "execution_count": 5,
   "metadata": {},
   "outputs": [],
   "source": [
    "dados_escolares = dados_escolares[dados_escolares.ANO == 2015]"
   ]
  },
  {
   "cell_type": "markdown",
   "metadata": {},
   "source": [
    "### check missing obs between datasets before merge operation"
   ]
  },
  {
   "cell_type": "code",
   "execution_count": 6,
   "metadata": {},
   "outputs": [
    {
     "name": "stdout",
     "output_type": "stream",
     "text": [
      "size of dados_escolares: 7127\n",
      "size of rendimentos: 14944\n"
     ]
    }
   ],
   "source": [
    "print(\"size of dados_escolares:\",len(dados_escolares))\n",
    "print(\"size of rendimentos:\",len(data))"
   ]
  },
  {
   "cell_type": "code",
   "execution_count": 7,
   "metadata": {},
   "outputs": [
    {
     "data": {
      "text/plain": [
       "7127"
      ]
     },
     "execution_count": 7,
     "metadata": {},
     "output_type": "execute_result"
    }
   ],
   "source": [
    "len(set(dados_escolares['CODMEC']))"
   ]
  },
  {
   "cell_type": "code",
   "execution_count": 8,
   "metadata": {},
   "outputs": [
    {
     "name": "stdout",
     "output_type": "stream",
     "text": [
      "missing from rendimentos 2248\n",
      "missing from dados_escolares 13\n"
     ]
    }
   ],
   "source": [
    "print(\"missing from rendimentos\", len(set(dados_escolares['CODMEC']) - set(data['CODMEC'])))\n",
    "print(\"missing from dados_escolares\", len(set(data['CODMEC']) - set(dados_escolares['CODMEC'])))"
   ]
  },
  {
   "cell_type": "markdown",
   "metadata": {},
   "source": [
    "# merge datasets"
   ]
  },
  {
   "cell_type": "code",
   "execution_count": 78,
   "metadata": {},
   "outputs": [],
   "source": [
    "#df_train = df_train.merge(dados_escolares, left_on='CODMEC', right_on='CODMEC', how=\"outer\")\n",
    "#df_train.rename(columns={'MAIS EDUCAÃ‡ÃƒO':'MAIS EDUCACAO', 'SITUAÃ‡ÃƒO': 'SITUACAO'}, inplace=True)"
   ]
  },
  {
   "cell_type": "code",
   "execution_count": 9,
   "metadata": {},
   "outputs": [],
   "source": [
    "data = data.merge(dados_escolares, left_on='CODMEC', right_on='CODMEC', how=\"outer\")\n",
    "data.rename(columns={'MAIS EDUCAÃ‡ÃƒO':'MAIS EDUCACAO', 'SITUAÃ‡ÃƒO': 'SITUACAO'}, inplace=True)"
   ]
  },
  {
   "cell_type": "code",
   "execution_count": 10,
   "metadata": {},
   "outputs": [
    {
     "name": "stdout",
     "output_type": "stream",
     "text": [
      "missing from data 550\n",
      "missing from Y 6447\n"
     ]
    }
   ],
   "source": [
    "print(\"missing from data\", len(set(enem['CODMEC']) - set(data['CODMEC'])))\n",
    "print(\"missing from Y\", len(set(data['CODMEC']) - set(enem['CODMEC'])))"
   ]
  },
  {
   "cell_type": "code",
   "execution_count": 11,
   "metadata": {},
   "outputs": [],
   "source": [
    "data = data.merge(enem, left_on='CODMEC', right_on='CODMEC', how='inner')"
   ]
  },
  {
   "cell_type": "code",
   "execution_count": 12,
   "metadata": {},
   "outputs": [
    {
     "data": {
      "text/html": [
       "<div>\n",
       "<style scoped>\n",
       "    .dataframe tbody tr th:only-of-type {\n",
       "        vertical-align: middle;\n",
       "    }\n",
       "\n",
       "    .dataframe tbody tr th {\n",
       "        vertical-align: top;\n",
       "    }\n",
       "\n",
       "    .dataframe thead th {\n",
       "        text-align: right;\n",
       "    }\n",
       "</style>\n",
       "<table border=\"1\" class=\"dataframe\">\n",
       "  <thead>\n",
       "    <tr style=\"text-align: right;\">\n",
       "      <th></th>\n",
       "      <th>CODMEC</th>\n",
       "      <th>ANO_x</th>\n",
       "      <th>DEP</th>\n",
       "      <th>NOME</th>\n",
       "      <th>SETEDU</th>\n",
       "      <th>DISTRITO07</th>\n",
       "      <th>SUBPREF</th>\n",
       "      <th>CORED</th>\n",
       "      <th>ZONA</th>\n",
       "      <th>EFABAND9ANOS1S</th>\n",
       "      <th>...</th>\n",
       "      <th>EE_Creche</th>\n",
       "      <th>EE_Pre</th>\n",
       "      <th>EE_Fund</th>\n",
       "      <th>EE_Med</th>\n",
       "      <th>EE_EJA</th>\n",
       "      <th>EE_EP</th>\n",
       "      <th>ALEDESP</th>\n",
       "      <th>TOTAL_ALUNOS</th>\n",
       "      <th>NUMERO DE PARTICIPANTES</th>\n",
       "      <th>y</th>\n",
       "    </tr>\n",
       "  </thead>\n",
       "  <tbody>\n",
       "    <tr>\n",
       "      <th>0</th>\n",
       "      <td>35054082</td>\n",
       "      <td>2014.0</td>\n",
       "      <td>MUNICIPAL</td>\n",
       "      <td>LINNEU PRESTES, PROF.</td>\n",
       "      <td>7102</td>\n",
       "      <td>SANTO AMARO</td>\n",
       "      <td>SANTO AMARO</td>\n",
       "      <td>SANTO AMARO</td>\n",
       "      <td>SUL</td>\n",
       "      <td>0.0</td>\n",
       "      <td>...</td>\n",
       "      <td>0.0</td>\n",
       "      <td>0.0</td>\n",
       "      <td>0.0</td>\n",
       "      <td>0.0</td>\n",
       "      <td>0.0</td>\n",
       "      <td>0.0</td>\n",
       "      <td>0.0</td>\n",
       "      <td>1205.0</td>\n",
       "      <td>51</td>\n",
       "      <td>1</td>\n",
       "    </tr>\n",
       "    <tr>\n",
       "      <th>1</th>\n",
       "      <td>35054082</td>\n",
       "      <td>2013.0</td>\n",
       "      <td>MUNICIPAL</td>\n",
       "      <td>LINNEU PRESTES, PROF.</td>\n",
       "      <td>7102</td>\n",
       "      <td>SANTO AMARO</td>\n",
       "      <td>SANTO AMARO</td>\n",
       "      <td>SANTO AMARO</td>\n",
       "      <td>SUL</td>\n",
       "      <td>0.0</td>\n",
       "      <td>...</td>\n",
       "      <td>0.0</td>\n",
       "      <td>0.0</td>\n",
       "      <td>0.0</td>\n",
       "      <td>0.0</td>\n",
       "      <td>0.0</td>\n",
       "      <td>0.0</td>\n",
       "      <td>0.0</td>\n",
       "      <td>1205.0</td>\n",
       "      <td>51</td>\n",
       "      <td>1</td>\n",
       "    </tr>\n",
       "    <tr>\n",
       "      <th>2</th>\n",
       "      <td>35054082</td>\n",
       "      <td>2012.0</td>\n",
       "      <td>Municipal</td>\n",
       "      <td>EMEFM LINNEU PRESTES PROF</td>\n",
       "      <td>7102</td>\n",
       "      <td>SANTO AMARO</td>\n",
       "      <td>SANTO AMARO</td>\n",
       "      <td>SANTO AMARO</td>\n",
       "      <td>SUL</td>\n",
       "      <td>0.0</td>\n",
       "      <td>...</td>\n",
       "      <td>0.0</td>\n",
       "      <td>0.0</td>\n",
       "      <td>0.0</td>\n",
       "      <td>0.0</td>\n",
       "      <td>0.0</td>\n",
       "      <td>0.0</td>\n",
       "      <td>0.0</td>\n",
       "      <td>1205.0</td>\n",
       "      <td>51</td>\n",
       "      <td>1</td>\n",
       "    </tr>\n",
       "    <tr>\n",
       "      <th>3</th>\n",
       "      <td>35054082</td>\n",
       "      <td>2011.0</td>\n",
       "      <td>Municipal</td>\n",
       "      <td>EMEFM LINNEU PRESTES PROF</td>\n",
       "      <td>7102</td>\n",
       "      <td>SANTO AMARO</td>\n",
       "      <td>SANTO AMARO</td>\n",
       "      <td>SANTO AMARO</td>\n",
       "      <td>SUL</td>\n",
       "      <td>0.0</td>\n",
       "      <td>...</td>\n",
       "      <td>0.0</td>\n",
       "      <td>0.0</td>\n",
       "      <td>0.0</td>\n",
       "      <td>0.0</td>\n",
       "      <td>0.0</td>\n",
       "      <td>0.0</td>\n",
       "      <td>0.0</td>\n",
       "      <td>1205.0</td>\n",
       "      <td>51</td>\n",
       "      <td>1</td>\n",
       "    </tr>\n",
       "    <tr>\n",
       "      <th>4</th>\n",
       "      <td>35054082</td>\n",
       "      <td>2010.0</td>\n",
       "      <td>Municipal</td>\n",
       "      <td>LINNEU PRESTES PROF EMEFM</td>\n",
       "      <td>7102</td>\n",
       "      <td>SANTO AMARO</td>\n",
       "      <td>SANTO AMARO</td>\n",
       "      <td>SANTO AMARO</td>\n",
       "      <td>SUL</td>\n",
       "      <td>0.0</td>\n",
       "      <td>...</td>\n",
       "      <td>0.0</td>\n",
       "      <td>0.0</td>\n",
       "      <td>0.0</td>\n",
       "      <td>0.0</td>\n",
       "      <td>0.0</td>\n",
       "      <td>0.0</td>\n",
       "      <td>0.0</td>\n",
       "      <td>1205.0</td>\n",
       "      <td>51</td>\n",
       "      <td>1</td>\n",
       "    </tr>\n",
       "  </tbody>\n",
       "</table>\n",
       "<p>5 rows × 336 columns</p>\n",
       "</div>"
      ],
      "text/plain": [
       "     CODMEC   ANO_x        DEP                       NOME SETEDU   DISTRITO07  \\\n",
       "0  35054082  2014.0  MUNICIPAL      LINNEU PRESTES, PROF.   7102  SANTO AMARO   \n",
       "1  35054082  2013.0  MUNICIPAL      LINNEU PRESTES, PROF.   7102  SANTO AMARO   \n",
       "2  35054082  2012.0  Municipal  EMEFM LINNEU PRESTES PROF   7102  SANTO AMARO   \n",
       "3  35054082  2011.0  Municipal  EMEFM LINNEU PRESTES PROF   7102  SANTO AMARO   \n",
       "4  35054082  2010.0  Municipal  LINNEU PRESTES PROF EMEFM   7102  SANTO AMARO   \n",
       "\n",
       "       SUBPREF        CORED ZONA  EFABAND9ANOS1S  ...  EE_Creche  EE_Pre  \\\n",
       "0  SANTO AMARO  SANTO AMARO  SUL             0.0  ...        0.0     0.0   \n",
       "1  SANTO AMARO  SANTO AMARO  SUL             0.0  ...        0.0     0.0   \n",
       "2  SANTO AMARO  SANTO AMARO  SUL             0.0  ...        0.0     0.0   \n",
       "3  SANTO AMARO  SANTO AMARO  SUL             0.0  ...        0.0     0.0   \n",
       "4  SANTO AMARO  SANTO AMARO  SUL             0.0  ...        0.0     0.0   \n",
       "\n",
       "   EE_Fund  EE_Med  EE_EJA  EE_EP  ALEDESP  TOTAL_ALUNOS  \\\n",
       "0      0.0     0.0     0.0    0.0      0.0        1205.0   \n",
       "1      0.0     0.0     0.0    0.0      0.0        1205.0   \n",
       "2      0.0     0.0     0.0    0.0      0.0        1205.0   \n",
       "3      0.0     0.0     0.0    0.0      0.0        1205.0   \n",
       "4      0.0     0.0     0.0    0.0      0.0        1205.0   \n",
       "\n",
       "   NUMERO DE PARTICIPANTES  y  \n",
       "0                       51  1  \n",
       "1                       51  1  \n",
       "2                       51  1  \n",
       "3                       51  1  \n",
       "4                       51  1  \n",
       "\n",
       "[5 rows x 336 columns]"
      ]
     },
     "execution_count": 12,
     "metadata": {},
     "output_type": "execute_result"
    }
   ],
   "source": [
    "data.head()"
   ]
  },
  {
   "cell_type": "code",
   "execution_count": 13,
   "metadata": {},
   "outputs": [
    {
     "data": {
      "text/html": [
       "<div>\n",
       "<style scoped>\n",
       "    .dataframe tbody tr th:only-of-type {\n",
       "        vertical-align: middle;\n",
       "    }\n",
       "\n",
       "    .dataframe tbody tr th {\n",
       "        vertical-align: top;\n",
       "    }\n",
       "\n",
       "    .dataframe thead th {\n",
       "        text-align: right;\n",
       "    }\n",
       "</style>\n",
       "<table border=\"1\" class=\"dataframe\">\n",
       "  <thead>\n",
       "    <tr style=\"text-align: right;\">\n",
       "      <th></th>\n",
       "      <th>CODMEC</th>\n",
       "      <th>ANO_x</th>\n",
       "      <th>DEP</th>\n",
       "      <th>NOME</th>\n",
       "      <th>SETEDU</th>\n",
       "      <th>DISTRITO07</th>\n",
       "      <th>SUBPREF</th>\n",
       "      <th>CORED</th>\n",
       "      <th>ZONA</th>\n",
       "      <th>EFABAND9ANOS1S</th>\n",
       "      <th>...</th>\n",
       "      <th>EE_Creche</th>\n",
       "      <th>EE_Pre</th>\n",
       "      <th>EE_Fund</th>\n",
       "      <th>EE_Med</th>\n",
       "      <th>EE_EJA</th>\n",
       "      <th>EE_EP</th>\n",
       "      <th>ALEDESP</th>\n",
       "      <th>TOTAL_ALUNOS</th>\n",
       "      <th>NUMERO DE PARTICIPANTES</th>\n",
       "      <th>y</th>\n",
       "    </tr>\n",
       "  </thead>\n",
       "  <tbody>\n",
       "    <tr>\n",
       "      <th>763</th>\n",
       "      <td>35923473</td>\n",
       "      <td>NaN</td>\n",
       "      <td>NaN</td>\n",
       "      <td>NaN</td>\n",
       "      <td>NaN</td>\n",
       "      <td>NaN</td>\n",
       "      <td>NaN</td>\n",
       "      <td>NaN</td>\n",
       "      <td>NaN</td>\n",
       "      <td>NaN</td>\n",
       "      <td>...</td>\n",
       "      <td>0.0</td>\n",
       "      <td>0.0</td>\n",
       "      <td>0.0</td>\n",
       "      <td>0.0</td>\n",
       "      <td>0.0</td>\n",
       "      <td>0.0</td>\n",
       "      <td>0.0</td>\n",
       "      <td>1456.0</td>\n",
       "      <td>100</td>\n",
       "      <td>2</td>\n",
       "    </tr>\n",
       "    <tr>\n",
       "      <th>764</th>\n",
       "      <td>35923795</td>\n",
       "      <td>NaN</td>\n",
       "      <td>NaN</td>\n",
       "      <td>NaN</td>\n",
       "      <td>NaN</td>\n",
       "      <td>NaN</td>\n",
       "      <td>NaN</td>\n",
       "      <td>NaN</td>\n",
       "      <td>NaN</td>\n",
       "      <td>NaN</td>\n",
       "      <td>...</td>\n",
       "      <td>0.0</td>\n",
       "      <td>0.0</td>\n",
       "      <td>0.0</td>\n",
       "      <td>0.0</td>\n",
       "      <td>0.0</td>\n",
       "      <td>0.0</td>\n",
       "      <td>0.0</td>\n",
       "      <td>202.0</td>\n",
       "      <td>17</td>\n",
       "      <td>1</td>\n",
       "    </tr>\n",
       "    <tr>\n",
       "      <th>765</th>\n",
       "      <td>35924398</td>\n",
       "      <td>NaN</td>\n",
       "      <td>NaN</td>\n",
       "      <td>NaN</td>\n",
       "      <td>NaN</td>\n",
       "      <td>NaN</td>\n",
       "      <td>NaN</td>\n",
       "      <td>NaN</td>\n",
       "      <td>NaN</td>\n",
       "      <td>NaN</td>\n",
       "      <td>...</td>\n",
       "      <td>0.0</td>\n",
       "      <td>0.0</td>\n",
       "      <td>0.0</td>\n",
       "      <td>0.0</td>\n",
       "      <td>0.0</td>\n",
       "      <td>0.0</td>\n",
       "      <td>0.0</td>\n",
       "      <td>610.0</td>\n",
       "      <td>44</td>\n",
       "      <td>1</td>\n",
       "    </tr>\n",
       "    <tr>\n",
       "      <th>766</th>\n",
       "      <td>35925871</td>\n",
       "      <td>NaN</td>\n",
       "      <td>NaN</td>\n",
       "      <td>NaN</td>\n",
       "      <td>NaN</td>\n",
       "      <td>NaN</td>\n",
       "      <td>NaN</td>\n",
       "      <td>NaN</td>\n",
       "      <td>NaN</td>\n",
       "      <td>NaN</td>\n",
       "      <td>...</td>\n",
       "      <td>0.0</td>\n",
       "      <td>0.0</td>\n",
       "      <td>0.0</td>\n",
       "      <td>0.0</td>\n",
       "      <td>0.0</td>\n",
       "      <td>0.0</td>\n",
       "      <td>0.0</td>\n",
       "      <td>1424.0</td>\n",
       "      <td>134</td>\n",
       "      <td>2</td>\n",
       "    </tr>\n",
       "    <tr>\n",
       "      <th>767</th>\n",
       "      <td>35990012</td>\n",
       "      <td>NaN</td>\n",
       "      <td>NaN</td>\n",
       "      <td>NaN</td>\n",
       "      <td>NaN</td>\n",
       "      <td>NaN</td>\n",
       "      <td>NaN</td>\n",
       "      <td>NaN</td>\n",
       "      <td>NaN</td>\n",
       "      <td>NaN</td>\n",
       "      <td>...</td>\n",
       "      <td>0.0</td>\n",
       "      <td>0.0</td>\n",
       "      <td>0.0</td>\n",
       "      <td>0.0</td>\n",
       "      <td>0.0</td>\n",
       "      <td>0.0</td>\n",
       "      <td>0.0</td>\n",
       "      <td>1427.0</td>\n",
       "      <td>122</td>\n",
       "      <td>3</td>\n",
       "    </tr>\n",
       "  </tbody>\n",
       "</table>\n",
       "<p>5 rows × 336 columns</p>\n",
       "</div>"
      ],
      "text/plain": [
       "       CODMEC  ANO_x  DEP NOME SETEDU DISTRITO07 SUBPREF CORED ZONA  \\\n",
       "763  35923473    NaN  NaN  NaN    NaN        NaN     NaN   NaN  NaN   \n",
       "764  35923795    NaN  NaN  NaN    NaN        NaN     NaN   NaN  NaN   \n",
       "765  35924398    NaN  NaN  NaN    NaN        NaN     NaN   NaN  NaN   \n",
       "766  35925871    NaN  NaN  NaN    NaN        NaN     NaN   NaN  NaN   \n",
       "767  35990012    NaN  NaN  NaN    NaN        NaN     NaN   NaN  NaN   \n",
       "\n",
       "     EFABAND9ANOS1S  ...  EE_Creche  EE_Pre  EE_Fund  EE_Med  EE_EJA  EE_EP  \\\n",
       "763             NaN  ...        0.0     0.0      0.0     0.0     0.0    0.0   \n",
       "764             NaN  ...        0.0     0.0      0.0     0.0     0.0    0.0   \n",
       "765             NaN  ...        0.0     0.0      0.0     0.0     0.0    0.0   \n",
       "766             NaN  ...        0.0     0.0      0.0     0.0     0.0    0.0   \n",
       "767             NaN  ...        0.0     0.0      0.0     0.0     0.0    0.0   \n",
       "\n",
       "     ALEDESP  TOTAL_ALUNOS  NUMERO DE PARTICIPANTES  y  \n",
       "763      0.0        1456.0                      100  2  \n",
       "764      0.0         202.0                       17  1  \n",
       "765      0.0         610.0                       44  1  \n",
       "766      0.0        1424.0                      134  2  \n",
       "767      0.0        1427.0                      122  3  \n",
       "\n",
       "[5 rows x 336 columns]"
      ]
     },
     "execution_count": 13,
     "metadata": {},
     "output_type": "execute_result"
    }
   ],
   "source": [
    "data.tail()"
   ]
  },
  {
   "cell_type": "code",
   "execution_count": 14,
   "metadata": {},
   "outputs": [
    {
     "name": "stdout",
     "output_type": "stream",
     "text": [
      "<class 'pandas.core.frame.DataFrame'>\n",
      "Int64Index: 768 entries, 0 to 767\n",
      "Columns: 336 entries, CODMEC to y\n",
      "dtypes: float64(315), int64(3), object(18)\n",
      "memory usage: 2.0+ MB\n"
     ]
    }
   ],
   "source": [
    "data.info()"
   ]
  },
  {
   "cell_type": "code",
   "execution_count": 15,
   "metadata": {},
   "outputs": [
    {
     "data": {
      "text/plain": [
       "693"
      ]
     },
     "execution_count": 15,
     "metadata": {},
     "output_type": "execute_result"
    }
   ],
   "source": [
    "data['CODMEC'].unique().size"
   ]
  },
  {
   "cell_type": "code",
   "execution_count": 16,
   "metadata": {},
   "outputs": [
    {
     "data": {
      "text/plain": [
       "Index(['CODMEC', 'ANO_x', 'DEP', 'NOME', 'SETEDU', 'DISTRITO07', 'SUBPREF',\n",
       "       'CORED', 'ZONA', 'EFABAND9ANOS1S',\n",
       "       ...\n",
       "       'EE_Creche', 'EE_Pre', 'EE_Fund', 'EE_Med', 'EE_EJA', 'EE_EP',\n",
       "       'ALEDESP', 'TOTAL_ALUNOS', 'NUMERO DE PARTICIPANTES', 'y'],\n",
       "      dtype='object', length=336)"
      ]
     },
     "execution_count": 16,
     "metadata": {},
     "output_type": "execute_result"
    }
   ],
   "source": [
    "data.columns"
   ]
  },
  {
   "cell_type": "code",
   "execution_count": 17,
   "metadata": {},
   "outputs": [
    {
     "data": {
      "text/html": [
       "<div>\n",
       "<style scoped>\n",
       "    .dataframe tbody tr th:only-of-type {\n",
       "        vertical-align: middle;\n",
       "    }\n",
       "\n",
       "    .dataframe tbody tr th {\n",
       "        vertical-align: top;\n",
       "    }\n",
       "\n",
       "    .dataframe thead th {\n",
       "        text-align: right;\n",
       "    }\n",
       "</style>\n",
       "<table border=\"1\" class=\"dataframe\">\n",
       "  <thead>\n",
       "    <tr style=\"text-align: right;\">\n",
       "      <th></th>\n",
       "      <th>CODMEC</th>\n",
       "      <th>ANO_x</th>\n",
       "      <th>EFABAND9ANOS1S</th>\n",
       "      <th>EFABAND9ANOS2S</th>\n",
       "      <th>EFABAND9ANOS3S</th>\n",
       "      <th>EFABAND9ANOS4S</th>\n",
       "      <th>EFABAND9ANOS5S</th>\n",
       "      <th>EFABAND9ANOS6S</th>\n",
       "      <th>EFABAND9ANOS7S</th>\n",
       "      <th>EFABAND9ANOS8S</th>\n",
       "      <th>...</th>\n",
       "      <th>EE_Creche</th>\n",
       "      <th>EE_Pre</th>\n",
       "      <th>EE_Fund</th>\n",
       "      <th>EE_Med</th>\n",
       "      <th>EE_EJA</th>\n",
       "      <th>EE_EP</th>\n",
       "      <th>ALEDESP</th>\n",
       "      <th>TOTAL_ALUNOS</th>\n",
       "      <th>NUMERO DE PARTICIPANTES</th>\n",
       "      <th>y</th>\n",
       "    </tr>\n",
       "  </thead>\n",
       "  <tbody>\n",
       "    <tr>\n",
       "      <th>count</th>\n",
       "      <td>7.680000e+02</td>\n",
       "      <td>580.000000</td>\n",
       "      <td>580.000000</td>\n",
       "      <td>580.000000</td>\n",
       "      <td>580.000000</td>\n",
       "      <td>580.000000</td>\n",
       "      <td>580.000000</td>\n",
       "      <td>580.000000</td>\n",
       "      <td>580.000000</td>\n",
       "      <td>580.000000</td>\n",
       "      <td>...</td>\n",
       "      <td>768.0</td>\n",
       "      <td>768.0</td>\n",
       "      <td>768.0</td>\n",
       "      <td>768.0</td>\n",
       "      <td>768.0</td>\n",
       "      <td>768.0</td>\n",
       "      <td>768.000000</td>\n",
       "      <td>768.000000</td>\n",
       "      <td>768.000000</td>\n",
       "      <td>768.000000</td>\n",
       "    </tr>\n",
       "    <tr>\n",
       "      <th>mean</th>\n",
       "      <td>3.516702e+07</td>\n",
       "      <td>2013.965517</td>\n",
       "      <td>0.034483</td>\n",
       "      <td>0.017241</td>\n",
       "      <td>0.017241</td>\n",
       "      <td>0.018966</td>\n",
       "      <td>0.020690</td>\n",
       "      <td>0.015517</td>\n",
       "      <td>0.039655</td>\n",
       "      <td>0.036207</td>\n",
       "      <td>...</td>\n",
       "      <td>0.0</td>\n",
       "      <td>0.0</td>\n",
       "      <td>0.0</td>\n",
       "      <td>0.0</td>\n",
       "      <td>0.0</td>\n",
       "      <td>0.0</td>\n",
       "      <td>0.032552</td>\n",
       "      <td>862.649740</td>\n",
       "      <td>60.890625</td>\n",
       "      <td>2.055990</td>\n",
       "    </tr>\n",
       "    <tr>\n",
       "      <th>std</th>\n",
       "      <td>1.921837e+05</td>\n",
       "      <td>3.104209</td>\n",
       "      <td>0.217182</td>\n",
       "      <td>0.142925</td>\n",
       "      <td>0.194162</td>\n",
       "      <td>0.222993</td>\n",
       "      <td>0.154113</td>\n",
       "      <td>0.149035</td>\n",
       "      <td>0.367242</td>\n",
       "      <td>0.300373</td>\n",
       "      <td>...</td>\n",
       "      <td>0.0</td>\n",
       "      <td>0.0</td>\n",
       "      <td>0.0</td>\n",
       "      <td>0.0</td>\n",
       "      <td>0.0</td>\n",
       "      <td>0.0</td>\n",
       "      <td>0.637983</td>\n",
       "      <td>558.119889</td>\n",
       "      <td>61.978513</td>\n",
       "      <td>0.689455</td>\n",
       "    </tr>\n",
       "    <tr>\n",
       "      <th>min</th>\n",
       "      <td>3.500014e+07</td>\n",
       "      <td>2000.000000</td>\n",
       "      <td>0.000000</td>\n",
       "      <td>0.000000</td>\n",
       "      <td>0.000000</td>\n",
       "      <td>0.000000</td>\n",
       "      <td>0.000000</td>\n",
       "      <td>0.000000</td>\n",
       "      <td>0.000000</td>\n",
       "      <td>0.000000</td>\n",
       "      <td>...</td>\n",
       "      <td>0.0</td>\n",
       "      <td>0.0</td>\n",
       "      <td>0.0</td>\n",
       "      <td>0.0</td>\n",
       "      <td>0.0</td>\n",
       "      <td>0.0</td>\n",
       "      <td>0.000000</td>\n",
       "      <td>54.000000</td>\n",
       "      <td>10.000000</td>\n",
       "      <td>0.000000</td>\n",
       "    </tr>\n",
       "    <tr>\n",
       "      <th>25%</th>\n",
       "      <td>3.510030e+07</td>\n",
       "      <td>2015.000000</td>\n",
       "      <td>0.000000</td>\n",
       "      <td>0.000000</td>\n",
       "      <td>0.000000</td>\n",
       "      <td>0.000000</td>\n",
       "      <td>0.000000</td>\n",
       "      <td>0.000000</td>\n",
       "      <td>0.000000</td>\n",
       "      <td>0.000000</td>\n",
       "      <td>...</td>\n",
       "      <td>0.0</td>\n",
       "      <td>0.0</td>\n",
       "      <td>0.0</td>\n",
       "      <td>0.0</td>\n",
       "      <td>0.0</td>\n",
       "      <td>0.0</td>\n",
       "      <td>0.000000</td>\n",
       "      <td>466.000000</td>\n",
       "      <td>22.000000</td>\n",
       "      <td>2.000000</td>\n",
       "    </tr>\n",
       "    <tr>\n",
       "      <th>50%</th>\n",
       "      <td>3.512419e+07</td>\n",
       "      <td>2015.000000</td>\n",
       "      <td>0.000000</td>\n",
       "      <td>0.000000</td>\n",
       "      <td>0.000000</td>\n",
       "      <td>0.000000</td>\n",
       "      <td>0.000000</td>\n",
       "      <td>0.000000</td>\n",
       "      <td>0.000000</td>\n",
       "      <td>0.000000</td>\n",
       "      <td>...</td>\n",
       "      <td>0.0</td>\n",
       "      <td>0.0</td>\n",
       "      <td>0.0</td>\n",
       "      <td>0.0</td>\n",
       "      <td>0.0</td>\n",
       "      <td>0.0</td>\n",
       "      <td>0.000000</td>\n",
       "      <td>769.500000</td>\n",
       "      <td>42.000000</td>\n",
       "      <td>2.000000</td>\n",
       "    </tr>\n",
       "    <tr>\n",
       "      <th>75%</th>\n",
       "      <td>3.516531e+07</td>\n",
       "      <td>2015.000000</td>\n",
       "      <td>0.000000</td>\n",
       "      <td>0.000000</td>\n",
       "      <td>0.000000</td>\n",
       "      <td>0.000000</td>\n",
       "      <td>0.000000</td>\n",
       "      <td>0.000000</td>\n",
       "      <td>0.000000</td>\n",
       "      <td>0.000000</td>\n",
       "      <td>...</td>\n",
       "      <td>0.0</td>\n",
       "      <td>0.0</td>\n",
       "      <td>0.0</td>\n",
       "      <td>0.0</td>\n",
       "      <td>0.0</td>\n",
       "      <td>0.0</td>\n",
       "      <td>0.000000</td>\n",
       "      <td>1144.750000</td>\n",
       "      <td>72.000000</td>\n",
       "      <td>2.000000</td>\n",
       "    </tr>\n",
       "    <tr>\n",
       "      <th>max</th>\n",
       "      <td>3.599001e+07</td>\n",
       "      <td>2015.000000</td>\n",
       "      <td>2.000000</td>\n",
       "      <td>2.000000</td>\n",
       "      <td>3.000000</td>\n",
       "      <td>4.000000</td>\n",
       "      <td>2.000000</td>\n",
       "      <td>2.000000</td>\n",
       "      <td>6.000000</td>\n",
       "      <td>5.000000</td>\n",
       "      <td>...</td>\n",
       "      <td>0.0</td>\n",
       "      <td>0.0</td>\n",
       "      <td>0.0</td>\n",
       "      <td>0.0</td>\n",
       "      <td>0.0</td>\n",
       "      <td>0.0</td>\n",
       "      <td>13.000000</td>\n",
       "      <td>4448.000000</td>\n",
       "      <td>488.000000</td>\n",
       "      <td>4.000000</td>\n",
       "    </tr>\n",
       "  </tbody>\n",
       "</table>\n",
       "<p>8 rows × 318 columns</p>\n",
       "</div>"
      ],
      "text/plain": [
       "             CODMEC        ANO_x  EFABAND9ANOS1S  EFABAND9ANOS2S  \\\n",
       "count  7.680000e+02   580.000000      580.000000      580.000000   \n",
       "mean   3.516702e+07  2013.965517        0.034483        0.017241   \n",
       "std    1.921837e+05     3.104209        0.217182        0.142925   \n",
       "min    3.500014e+07  2000.000000        0.000000        0.000000   \n",
       "25%    3.510030e+07  2015.000000        0.000000        0.000000   \n",
       "50%    3.512419e+07  2015.000000        0.000000        0.000000   \n",
       "75%    3.516531e+07  2015.000000        0.000000        0.000000   \n",
       "max    3.599001e+07  2015.000000        2.000000        2.000000   \n",
       "\n",
       "       EFABAND9ANOS3S  EFABAND9ANOS4S  EFABAND9ANOS5S  EFABAND9ANOS6S  \\\n",
       "count      580.000000      580.000000      580.000000      580.000000   \n",
       "mean         0.017241        0.018966        0.020690        0.015517   \n",
       "std          0.194162        0.222993        0.154113        0.149035   \n",
       "min          0.000000        0.000000        0.000000        0.000000   \n",
       "25%          0.000000        0.000000        0.000000        0.000000   \n",
       "50%          0.000000        0.000000        0.000000        0.000000   \n",
       "75%          0.000000        0.000000        0.000000        0.000000   \n",
       "max          3.000000        4.000000        2.000000        2.000000   \n",
       "\n",
       "       EFABAND9ANOS7S  EFABAND9ANOS8S  ...  EE_Creche  EE_Pre  EE_Fund  \\\n",
       "count      580.000000      580.000000  ...      768.0   768.0    768.0   \n",
       "mean         0.039655        0.036207  ...        0.0     0.0      0.0   \n",
       "std          0.367242        0.300373  ...        0.0     0.0      0.0   \n",
       "min          0.000000        0.000000  ...        0.0     0.0      0.0   \n",
       "25%          0.000000        0.000000  ...        0.0     0.0      0.0   \n",
       "50%          0.000000        0.000000  ...        0.0     0.0      0.0   \n",
       "75%          0.000000        0.000000  ...        0.0     0.0      0.0   \n",
       "max          6.000000        5.000000  ...        0.0     0.0      0.0   \n",
       "\n",
       "       EE_Med  EE_EJA  EE_EP     ALEDESP  TOTAL_ALUNOS  \\\n",
       "count   768.0   768.0  768.0  768.000000    768.000000   \n",
       "mean      0.0     0.0    0.0    0.032552    862.649740   \n",
       "std       0.0     0.0    0.0    0.637983    558.119889   \n",
       "min       0.0     0.0    0.0    0.000000     54.000000   \n",
       "25%       0.0     0.0    0.0    0.000000    466.000000   \n",
       "50%       0.0     0.0    0.0    0.000000    769.500000   \n",
       "75%       0.0     0.0    0.0    0.000000   1144.750000   \n",
       "max       0.0     0.0    0.0   13.000000   4448.000000   \n",
       "\n",
       "       NUMERO DE PARTICIPANTES           y  \n",
       "count               768.000000  768.000000  \n",
       "mean                 60.890625    2.055990  \n",
       "std                  61.978513    0.689455  \n",
       "min                  10.000000    0.000000  \n",
       "25%                  22.000000    2.000000  \n",
       "50%                  42.000000    2.000000  \n",
       "75%                  72.000000    2.000000  \n",
       "max                 488.000000    4.000000  \n",
       "\n",
       "[8 rows x 318 columns]"
      ]
     },
     "execution_count": 17,
     "metadata": {},
     "output_type": "execute_result"
    }
   ],
   "source": [
    "data.describe()"
   ]
  },
  {
   "cell_type": "markdown",
   "metadata": {},
   "source": [
    "### remove duplicates"
   ]
  },
  {
   "cell_type": "code",
   "execution_count": 18,
   "metadata": {},
   "outputs": [],
   "source": [
    "data.sort_values(by=['ANO_x'], ascending=False, inplace=True)\n",
    "data.drop_duplicates(keep='first',inplace=True) "
   ]
  },
  {
   "cell_type": "markdown",
   "metadata": {},
   "source": [
    "# checking types"
   ]
  },
  {
   "cell_type": "markdown",
   "metadata": {},
   "source": [
    "the dataframe has 3 types of data: int, float and object (string)"
   ]
  },
  {
   "cell_type": "code",
   "execution_count": 19,
   "metadata": {},
   "outputs": [],
   "source": [
    "for cat in data.columns:\n",
    "    if data[cat].dtypes != 'int64' and data[cat].dtypes != 'float64' and data[cat].dtypes != 'object':\n",
    "        print(data[cat].dtypes)"
   ]
  },
  {
   "cell_type": "code",
   "execution_count": 20,
   "metadata": {},
   "outputs": [
    {
     "data": {
      "text/plain": [
       "CODMEC                     int64\n",
       "NUMERO DE PARTICIPANTES    int64\n",
       "y                          int64\n",
       "dtype: object"
      ]
     },
     "execution_count": 20,
     "metadata": {},
     "output_type": "execute_result"
    }
   ],
   "source": [
    "data.dtypes[data.dtypes.map(lambda x: x=='int64')][:10]"
   ]
  },
  {
   "cell_type": "code",
   "execution_count": 21,
   "metadata": {},
   "outputs": [
    {
     "data": {
      "text/plain": [
       "ANO_x             float64\n",
       "EFABAND9ANOS1S    float64\n",
       "EFABAND9ANOS2S    float64\n",
       "EFABAND9ANOS3S    float64\n",
       "EFABAND9ANOS4S    float64\n",
       "EFABAND9ANOS5S    float64\n",
       "EFABAND9ANOS6S    float64\n",
       "EFABAND9ANOS7S    float64\n",
       "EFABAND9ANOS8S    float64\n",
       "EFABAND9ANOS9S    float64\n",
       "dtype: object"
      ]
     },
     "execution_count": 21,
     "metadata": {},
     "output_type": "execute_result"
    }
   ],
   "source": [
    "data.dtypes[data.dtypes.map(lambda x: x=='float64')][:10]"
   ]
  },
  {
   "cell_type": "code",
   "execution_count": 22,
   "metadata": {},
   "outputs": [
    {
     "data": {
      "text/plain": [
       "DEP               object\n",
       "NOME              object\n",
       "SETEDU            object\n",
       "DISTRITO07        object\n",
       "SUBPREF           object\n",
       "CORED             object\n",
       "ZONA              object\n",
       "EJATOTAL,,        object\n",
       "TIPOESC           object\n",
       "DEPADM            object\n",
       "MAIS EDUCACAO     object\n",
       "MERENDA           object\n",
       "DTURNOS - EMEF    object\n",
       "T2D3D - EMEF      object\n",
       "DTURNOS-EMEI      object\n",
       "T2D3D - EMEI      object\n",
       "TIPOENSEJA        object\n",
       "TIPO_EE           object\n",
       "dtype: object"
      ]
     },
     "execution_count": 22,
     "metadata": {},
     "output_type": "execute_result"
    }
   ],
   "source": [
    "data.dtypes[data.dtypes.map(lambda x: x=='object')]"
   ]
  },
  {
   "cell_type": "markdown",
   "metadata": {},
   "source": [
    "# checking categorical data"
   ]
  },
  {
   "cell_type": "markdown",
   "metadata": {},
   "source": [
    "For columns with string data, evaluate how many categories each columns has\n",
    "\n",
    "remove columns where one-hot-encoding would not be efficient"
   ]
  },
  {
   "cell_type": "code",
   "execution_count": 23,
   "metadata": {},
   "outputs": [
    {
     "name": "stdout",
     "output_type": "stream",
     "text": [
      "Number of levels in category 'DEP': \b 4.00 \n",
      "Number of levels in category 'NOME': \b 527.00 \n",
      "REMOVED:  NOME\n",
      "Number of levels in category 'SETEDU': \b 13.00 \n",
      "REMOVED:  SETEDU\n",
      "Number of levels in category 'DISTRITO07': \b 87.00 \n",
      "REMOVED:  DISTRITO07\n",
      "Number of levels in category 'SUBPREF': \b 32.00 \n",
      "REMOVED:  SUBPREF\n",
      "Number of levels in category 'CORED': \b 14.00 \n",
      "REMOVED:  CORED\n",
      "Number of levels in category 'ZONA': \b 6.00 \n",
      "Number of levels in category 'EJATOTAL,,': \b 9.00 \n",
      "Number of levels in category 'TIPOESC': \b 4.00 \n",
      "Number of levels in category 'DEPADM': \b 1.00 \n",
      "Number of levels in category 'MAIS EDUCACAO': \b 1.00 \n",
      "Number of levels in category 'MERENDA': \b 1.00 \n",
      "Number of levels in category 'DTURNOS - EMEF': \b 1.00 \n",
      "Number of levels in category 'T2D3D - EMEF': \b 2.00 \n",
      "Number of levels in category 'DTURNOS-EMEI': \b 1.00 \n",
      "Number of levels in category 'T2D3D - EMEI': \b 1.00 \n",
      "Number of levels in category 'TIPOENSEJA': \b 1.00 \n",
      "Number of levels in category 'TIPO_EE': \b 2.00 \n"
     ]
    }
   ],
   "source": [
    "for cat in data.columns:\n",
    "    if data[cat].dtypes == 'object':\n",
    "        print(\"Number of levels in category '{0}': \\b {1:2.2f} \".format(cat, data[cat].unique().size))\n",
    "        if  data[cat].unique().size >= 10: \n",
    "            data.drop(cat, axis=1, inplace=True)\n",
    "            print(\"REMOVED: \", cat)"
   ]
  },
  {
   "cell_type": "markdown",
   "metadata": {},
   "source": [
    "### looking for more possible categorical data"
   ]
  },
  {
   "cell_type": "code",
   "execution_count": 79,
   "metadata": {},
   "outputs": [
    {
     "name": "stdout",
     "output_type": "stream",
     "text": [
      "Number of levels in category 'CONCLUINTES_EF': \b 2.00 \n",
      "    Unique values: \b [ 0. nan]\n",
      "Number of levels in category 'CLEM4S': \b 2.00 \n",
      "    Unique values: \b [0. 1.]\n",
      "Number of levels in category 'EE_Ret_MED': \b 3.00 \n",
      "    Unique values: \b [ 0. nan  1.]\n",
      "Number of levels in category 'EE_VIS_CRE': \b 2.00 \n",
      "    Unique values: \b [ 0. nan]\n",
      "Number of levels in category 'EE_BVIS_CRE': \b 2.00 \n",
      "    Unique values: \b [ 0. nan]\n",
      "Number of levels in category 'EE_AUD_CRE': \b 3.00 \n",
      "    Unique values: \b [ 0. nan  3.]\n",
      "Number of levels in category 'EE_BAUD_CRE': \b 2.00 \n",
      "    Unique values: \b [ 0. nan]\n",
      "Number of levels in category 'EE_Surdo_Cegueira_CRE': \b 2.00 \n",
      "    Unique values: \b [ 0. nan]\n",
      "Number of levels in category 'EE_FIS_CRE': \b 3.00 \n",
      "    Unique values: \b [ 0. nan  1.]\n"
     ]
    }
   ],
   "source": [
    "count = 0\n",
    "for cat in data.columns:\n",
    "    if data[cat].dtypes == 'object': continue\n",
    "    if data[cat].unique().size > 3: continue\n",
    "    count += 1\n",
    "    if count < 10: #if you want to print all columns, remove this condition\n",
    "        print(\"Number of levels in category '{0}': \\b {1:2.2f} \".format(cat, data[cat].unique().size))\n",
    "        print(\"    Unique values: \\b {}\".format(data[cat].unique()))"
   ]
  },
  {
   "cell_type": "markdown",
   "metadata": {},
   "source": [
    "We see that those are not categorical data but simply data with too many missing in general. We will deal with that later."
   ]
  },
  {
   "cell_type": "markdown",
   "metadata": {},
   "source": [
    "Now let us remove features with constant values"
   ]
  },
  {
   "cell_type": "code",
   "execution_count": 80,
   "metadata": {},
   "outputs": [
    {
     "name": "stdout",
     "output_type": "stream",
     "text": [
      "[]\n"
     ]
    }
   ],
   "source": [
    "temp = []\n",
    "for col in data.columns:\n",
    "    if data[col].unique().size <= 1: \n",
    "        print(\"REMOVED: \", col)\n",
    "        temp.append(col)\n",
    "        data.drop(col, axis=1, inplace=True)\n",
    "print(temp)"
   ]
  },
  {
   "cell_type": "code",
   "execution_count": 26,
   "metadata": {},
   "outputs": [
    {
     "name": "stdout",
     "output_type": "stream",
     "text": [
      "<class 'pandas.core.frame.DataFrame'>\n",
      "Int64Index: 768 entries, 290 to 767\n",
      "Columns: 261 entries, CODMEC to y\n",
      "dtypes: float64(252), int64(3), object(6)\n",
      "memory usage: 1.5+ MB\n"
     ]
    }
   ],
   "source": [
    "data.info()"
   ]
  },
  {
   "cell_type": "markdown",
   "metadata": {},
   "source": [
    "# Dealing with highly correlated variables\n",
    "We are going to delete variables with a correlation above some threshold with another variable"
   ]
  },
  {
   "cell_type": "code",
   "execution_count": 27,
   "metadata": {},
   "outputs": [],
   "source": [
    "def clear_correlated_data(dataset, threshold):\n",
    "    col_corr = set()\n",
    "    corr_matrix = dataset.corr()\n",
    "    for i in range(len(corr_matrix.columns)):\n",
    "        for j in range(i):\n",
    "            if (corr_matrix.iloc[i, j] >= abs(threshold)) and (corr_matrix.columns[j] not in col_corr):\n",
    "                colname = corr_matrix.columns[i]\n",
    "                col_corr.add(colname)\n",
    "                if colname in dataset.columns:\n",
    "                    del dataset[colname]\n",
    "    return dataset\n",
    "    #print(dataset)"
   ]
  },
  {
   "cell_type": "code",
   "execution_count": 28,
   "metadata": {},
   "outputs": [],
   "source": [
    "threshold = 0.8\n",
    "data = clear_correlated_data(data, threshold)"
   ]
  },
  {
   "cell_type": "markdown",
   "metadata": {},
   "source": [
    "### visualize correlations"
   ]
  },
  {
   "cell_type": "code",
   "execution_count": 29,
   "metadata": {},
   "outputs": [
    {
     "data": {
      "text/plain": [
       "<matplotlib.axes._subplots.AxesSubplot at 0x1c758ad9dd8>"
      ]
     },
     "execution_count": 29,
     "metadata": {},
     "output_type": "execute_result"
    },
    {
     "data": {
      "image/png": "[encoded data removed]",
      "text/plain": [
       "<Figure size 864x648 with 2 Axes>"
      ]
     },
     "metadata": {
      "needs_background": "light"
     },
     "output_type": "display_data"
    }
   ],
   "source": [
    "#correlation matrix\n",
    "corrmatrix = data.corr()\n",
    "f, ax = plt.subplots(figsize=(12, 9))\n",
    "sns.heatmap(corrmatrix, square=True, center=0) #cmap=BrBG"
   ]
  },
  {
   "cell_type": "markdown",
   "metadata": {},
   "source": [
    "we see that more than 100 features were removed"
   ]
  },
  {
   "cell_type": "code",
   "execution_count": 30,
   "metadata": {},
   "outputs": [
    {
     "name": "stdout",
     "output_type": "stream",
     "text": [
      "<class 'pandas.core.frame.DataFrame'>\n",
      "Int64Index: 768 entries, 290 to 767\n",
      "Columns: 144 entries, CODMEC to y\n",
      "dtypes: float64(136), int64(2), object(6)\n",
      "memory usage: 870.0+ KB\n"
     ]
    }
   ],
   "source": [
    "data.info()"
   ]
  },
  {
   "cell_type": "raw",
   "metadata": {},
   "source": [
    "#scatterplot\n",
    "sns.set()\n",
    "cols = ['SalePrice', 'OverallQual', 'GrLivArea', 'GarageCars', 'TotalBsmtSF', 'FullBath', 'YearBuilt']\n",
    "sns.pairplot(data[cols], size = 2.5)\n",
    "plt.show();"
   ]
  },
  {
   "cell_type": "markdown",
   "metadata": {},
   "source": [
    "# missing data"
   ]
  },
  {
   "cell_type": "code",
   "execution_count": 31,
   "metadata": {},
   "outputs": [
    {
     "data": {
      "text/html": [
       "<div>\n",
       "<style scoped>\n",
       "    .dataframe tbody tr th:only-of-type {\n",
       "        vertical-align: middle;\n",
       "    }\n",
       "\n",
       "    .dataframe tbody tr th {\n",
       "        vertical-align: top;\n",
       "    }\n",
       "\n",
       "    .dataframe thead th {\n",
       "        text-align: right;\n",
       "    }\n",
       "</style>\n",
       "<table border=\"1\" class=\"dataframe\">\n",
       "  <thead>\n",
       "    <tr style=\"text-align: right;\">\n",
       "      <th></th>\n",
       "      <th>total</th>\n",
       "      <th>percent</th>\n",
       "    </tr>\n",
       "  </thead>\n",
       "  <tbody>\n",
       "    <tr>\n",
       "      <th>T2D3D - EMEF</th>\n",
       "      <td>688</td>\n",
       "      <td>0.895833</td>\n",
       "    </tr>\n",
       "    <tr>\n",
       "      <th>CODEOL</th>\n",
       "      <td>687</td>\n",
       "      <td>0.894531</td>\n",
       "    </tr>\n",
       "    <tr>\n",
       "      <th>EE_TDI_CRE</th>\n",
       "      <td>584</td>\n",
       "      <td>0.760417</td>\n",
       "    </tr>\n",
       "    <tr>\n",
       "      <th>EE_BVIS_CRE</th>\n",
       "      <td>584</td>\n",
       "      <td>0.760417</td>\n",
       "    </tr>\n",
       "    <tr>\n",
       "      <th>EE_BAUD_CRE</th>\n",
       "      <td>584</td>\n",
       "      <td>0.760417</td>\n",
       "    </tr>\n",
       "    <tr>\n",
       "      <th>EE_Surdo_Cegueira_CRE</th>\n",
       "      <td>584</td>\n",
       "      <td>0.760417</td>\n",
       "    </tr>\n",
       "    <tr>\n",
       "      <th>EE_FIS_CRE</th>\n",
       "      <td>584</td>\n",
       "      <td>0.760417</td>\n",
       "    </tr>\n",
       "    <tr>\n",
       "      <th>EE_MUL_CRE</th>\n",
       "      <td>584</td>\n",
       "      <td>0.760417</td>\n",
       "    </tr>\n",
       "    <tr>\n",
       "      <th>EE_SUP_CRE</th>\n",
       "      <td>584</td>\n",
       "      <td>0.760417</td>\n",
       "    </tr>\n",
       "    <tr>\n",
       "      <th>EE_Autismo_CRE</th>\n",
       "      <td>584</td>\n",
       "      <td>0.760417</td>\n",
       "    </tr>\n",
       "    <tr>\n",
       "      <th>EE_Asperger_CRE</th>\n",
       "      <td>584</td>\n",
       "      <td>0.760417</td>\n",
       "    </tr>\n",
       "    <tr>\n",
       "      <th>EE_Ret_CRE</th>\n",
       "      <td>584</td>\n",
       "      <td>0.760417</td>\n",
       "    </tr>\n",
       "    <tr>\n",
       "      <th>EE_VIS_CRE</th>\n",
       "      <td>584</td>\n",
       "      <td>0.760417</td>\n",
       "    </tr>\n",
       "    <tr>\n",
       "      <th>TOT_EE_CRE</th>\n",
       "      <td>584</td>\n",
       "      <td>0.760417</td>\n",
       "    </tr>\n",
       "    <tr>\n",
       "      <th>EE_AUD_CRE</th>\n",
       "      <td>584</td>\n",
       "      <td>0.760417</td>\n",
       "    </tr>\n",
       "    <tr>\n",
       "      <th>EE_Autismo_EP</th>\n",
       "      <td>562</td>\n",
       "      <td>0.731771</td>\n",
       "    </tr>\n",
       "    <tr>\n",
       "      <th>EE_FIS_EP</th>\n",
       "      <td>562</td>\n",
       "      <td>0.731771</td>\n",
       "    </tr>\n",
       "    <tr>\n",
       "      <th>EE_Surdo_Cegueira_EP</th>\n",
       "      <td>562</td>\n",
       "      <td>0.731771</td>\n",
       "    </tr>\n",
       "    <tr>\n",
       "      <th>EE_BAUD_EP</th>\n",
       "      <td>562</td>\n",
       "      <td>0.731771</td>\n",
       "    </tr>\n",
       "    <tr>\n",
       "      <th>EE_AUD_EP</th>\n",
       "      <td>562</td>\n",
       "      <td>0.731771</td>\n",
       "    </tr>\n",
       "  </tbody>\n",
       "</table>\n",
       "</div>"
      ],
      "text/plain": [
       "                       total   percent\n",
       "T2D3D - EMEF             688  0.895833\n",
       "CODEOL                   687  0.894531\n",
       "EE_TDI_CRE               584  0.760417\n",
       "EE_BVIS_CRE              584  0.760417\n",
       "EE_BAUD_CRE              584  0.760417\n",
       "EE_Surdo_Cegueira_CRE    584  0.760417\n",
       "EE_FIS_CRE               584  0.760417\n",
       "EE_MUL_CRE               584  0.760417\n",
       "EE_SUP_CRE               584  0.760417\n",
       "EE_Autismo_CRE           584  0.760417\n",
       "EE_Asperger_CRE          584  0.760417\n",
       "EE_Ret_CRE               584  0.760417\n",
       "EE_VIS_CRE               584  0.760417\n",
       "TOT_EE_CRE               584  0.760417\n",
       "EE_AUD_CRE               584  0.760417\n",
       "EE_Autismo_EP            562  0.731771\n",
       "EE_FIS_EP                562  0.731771\n",
       "EE_Surdo_Cegueira_EP     562  0.731771\n",
       "EE_BAUD_EP               562  0.731771\n",
       "EE_AUD_EP                562  0.731771"
      ]
     },
     "execution_count": 31,
     "metadata": {},
     "output_type": "execute_result"
    }
   ],
   "source": [
    "total = data.isnull().sum().sort_values(ascending=False)\n",
    "percent = (data.isnull().sum()/data.isnull().count()).sort_values(ascending=False)\n",
    "missing_data = pd.concat([total, percent], axis=1, keys=['total', 'percent'])\n",
    "missing_data.head(20)"
   ]
  },
  {
   "cell_type": "markdown",
   "metadata": {},
   "source": [
    "removing variables if missing data > 80%"
   ]
  },
  {
   "cell_type": "code",
   "execution_count": 32,
   "metadata": {},
   "outputs": [],
   "source": [
    "data.drop((missing_data[missing_data['percent'] > 0.8]).index,1, inplace=True)"
   ]
  },
  {
   "cell_type": "raw",
   "metadata": {},
   "source": [
    "data = bak"
   ]
  },
  {
   "cell_type": "code",
   "execution_count": 33,
   "metadata": {},
   "outputs": [
    {
     "name": "stdout",
     "output_type": "stream",
     "text": [
      "<class 'pandas.core.frame.DataFrame'>\n",
      "Int64Index: 768 entries, 290 to 767\n",
      "Columns: 142 entries, CODMEC to y\n",
      "dtypes: float64(135), int64(2), object(5)\n",
      "memory usage: 858.0+ KB\n"
     ]
    }
   ],
   "source": [
    "data.info()"
   ]
  },
  {
   "cell_type": "markdown",
   "metadata": {},
   "source": [
    "# machine learning"
   ]
  },
  {
   "cell_type": "code",
   "execution_count": 76,
   "metadata": {},
   "outputs": [],
   "source": [
    "import warnings; warnings.simplefilter('ignore')"
   ]
  },
  {
   "cell_type": "code",
   "execution_count": 145,
   "metadata": {},
   "outputs": [],
   "source": [
    "from sklearn.preprocessing import StandardScaler, Imputer\n",
    "from sklearn.pipeline import Pipeline\n",
    "from sklearn.model_selection import train_test_split, GridSearchCV\n",
    "#from sklearn.model_selection import GridSearchCV\n",
    "from sklearn.metrics import classification_report, roc_curve, roc_auc_score, confusion_matrix, accuracy_score\n",
    "#from sklearn.metrics import log_loss"
   ]
  },
  {
   "cell_type": "markdown",
   "metadata": {},
   "source": [
    "## split data"
   ]
  },
  {
   "cell_type": "code",
   "execution_count": 45,
   "metadata": {},
   "outputs": [],
   "source": [
    "X = data.iloc[:, 1:-1]"
   ]
  },
  {
   "cell_type": "code",
   "execution_count": 46,
   "metadata": {
    "scrolled": true
   },
   "outputs": [
    {
     "data": {
      "text/html": [
       "<div>\n",
       "<style scoped>\n",
       "    .dataframe tbody tr th:only-of-type {\n",
       "        vertical-align: middle;\n",
       "    }\n",
       "\n",
       "    .dataframe tbody tr th {\n",
       "        vertical-align: top;\n",
       "    }\n",
       "\n",
       "    .dataframe thead th {\n",
       "        text-align: right;\n",
       "    }\n",
       "</style>\n",
       "<table border=\"1\" class=\"dataframe\">\n",
       "  <thead>\n",
       "    <tr style=\"text-align: right;\">\n",
       "      <th></th>\n",
       "      <th>ANO_x</th>\n",
       "      <th>DEP</th>\n",
       "      <th>ZONA</th>\n",
       "      <th>EFABAND9ANOS1S</th>\n",
       "      <th>EFABAND9ANOS2S</th>\n",
       "      <th>EFABAND9ANOS3S</th>\n",
       "      <th>EFABAND9ANOS4S</th>\n",
       "      <th>EFABAND9ANOS5S</th>\n",
       "      <th>EFABAND9ANOS6S</th>\n",
       "      <th>EFABAND9ANOS7S</th>\n",
       "      <th>...</th>\n",
       "      <th>EE_BVIS_PRE</th>\n",
       "      <th>EE_BAUD_PRE</th>\n",
       "      <th>EE_Surdo_Cegueira_PRE</th>\n",
       "      <th>EE_FIS_PRE</th>\n",
       "      <th>EE_MUL_PRE</th>\n",
       "      <th>EE_SUP_PRE</th>\n",
       "      <th>EE_Asperger_PRE</th>\n",
       "      <th>EE_Ret_PRE</th>\n",
       "      <th>EE_TDI_PRE</th>\n",
       "      <th>TIPO_EE</th>\n",
       "    </tr>\n",
       "  </thead>\n",
       "  <tbody>\n",
       "    <tr>\n",
       "      <th>290</th>\n",
       "      <td>2015.0</td>\n",
       "      <td>PARTICULAR</td>\n",
       "      <td>SUL</td>\n",
       "      <td>0.0</td>\n",
       "      <td>0.0</td>\n",
       "      <td>0.0</td>\n",
       "      <td>0.0</td>\n",
       "      <td>0.0</td>\n",
       "      <td>0.0</td>\n",
       "      <td>0.0</td>\n",
       "      <td>...</td>\n",
       "      <td>0.0</td>\n",
       "      <td>0.0</td>\n",
       "      <td>0.0</td>\n",
       "      <td>0.0</td>\n",
       "      <td>0.0</td>\n",
       "      <td>0.0</td>\n",
       "      <td>0.0</td>\n",
       "      <td>0.0</td>\n",
       "      <td>0.0</td>\n",
       "      <td>0</td>\n",
       "    </tr>\n",
       "    <tr>\n",
       "      <th>435</th>\n",
       "      <td>2015.0</td>\n",
       "      <td>PARTICULAR</td>\n",
       "      <td>OESTE</td>\n",
       "      <td>0.0</td>\n",
       "      <td>0.0</td>\n",
       "      <td>0.0</td>\n",
       "      <td>0.0</td>\n",
       "      <td>0.0</td>\n",
       "      <td>0.0</td>\n",
       "      <td>0.0</td>\n",
       "      <td>...</td>\n",
       "      <td>NaN</td>\n",
       "      <td>NaN</td>\n",
       "      <td>NaN</td>\n",
       "      <td>NaN</td>\n",
       "      <td>NaN</td>\n",
       "      <td>NaN</td>\n",
       "      <td>NaN</td>\n",
       "      <td>NaN</td>\n",
       "      <td>NaN</td>\n",
       "      <td>0</td>\n",
       "    </tr>\n",
       "    <tr>\n",
       "      <th>383</th>\n",
       "      <td>2015.0</td>\n",
       "      <td>PARTICULAR</td>\n",
       "      <td>NORTE</td>\n",
       "      <td>0.0</td>\n",
       "      <td>0.0</td>\n",
       "      <td>0.0</td>\n",
       "      <td>0.0</td>\n",
       "      <td>0.0</td>\n",
       "      <td>0.0</td>\n",
       "      <td>0.0</td>\n",
       "      <td>...</td>\n",
       "      <td>0.0</td>\n",
       "      <td>0.0</td>\n",
       "      <td>0.0</td>\n",
       "      <td>0.0</td>\n",
       "      <td>0.0</td>\n",
       "      <td>0.0</td>\n",
       "      <td>0.0</td>\n",
       "      <td>0.0</td>\n",
       "      <td>0.0</td>\n",
       "      <td>0</td>\n",
       "    </tr>\n",
       "    <tr>\n",
       "      <th>384</th>\n",
       "      <td>2015.0</td>\n",
       "      <td>PARTICULAR</td>\n",
       "      <td>NORTE</td>\n",
       "      <td>0.0</td>\n",
       "      <td>0.0</td>\n",
       "      <td>0.0</td>\n",
       "      <td>0.0</td>\n",
       "      <td>0.0</td>\n",
       "      <td>0.0</td>\n",
       "      <td>0.0</td>\n",
       "      <td>...</td>\n",
       "      <td>NaN</td>\n",
       "      <td>NaN</td>\n",
       "      <td>NaN</td>\n",
       "      <td>NaN</td>\n",
       "      <td>NaN</td>\n",
       "      <td>NaN</td>\n",
       "      <td>NaN</td>\n",
       "      <td>NaN</td>\n",
       "      <td>NaN</td>\n",
       "      <td>0</td>\n",
       "    </tr>\n",
       "    <tr>\n",
       "      <th>385</th>\n",
       "      <td>2015.0</td>\n",
       "      <td>PARTICULAR</td>\n",
       "      <td>SUL</td>\n",
       "      <td>0.0</td>\n",
       "      <td>0.0</td>\n",
       "      <td>0.0</td>\n",
       "      <td>0.0</td>\n",
       "      <td>0.0</td>\n",
       "      <td>0.0</td>\n",
       "      <td>0.0</td>\n",
       "      <td>...</td>\n",
       "      <td>NaN</td>\n",
       "      <td>NaN</td>\n",
       "      <td>NaN</td>\n",
       "      <td>NaN</td>\n",
       "      <td>NaN</td>\n",
       "      <td>NaN</td>\n",
       "      <td>NaN</td>\n",
       "      <td>NaN</td>\n",
       "      <td>NaN</td>\n",
       "      <td>0</td>\n",
       "    </tr>\n",
       "  </tbody>\n",
       "</table>\n",
       "<p>5 rows × 140 columns</p>\n",
       "</div>"
      ],
      "text/plain": [
       "      ANO_x         DEP   ZONA  EFABAND9ANOS1S  EFABAND9ANOS2S  \\\n",
       "290  2015.0  PARTICULAR    SUL             0.0             0.0   \n",
       "435  2015.0  PARTICULAR  OESTE             0.0             0.0   \n",
       "383  2015.0  PARTICULAR  NORTE             0.0             0.0   \n",
       "384  2015.0  PARTICULAR  NORTE             0.0             0.0   \n",
       "385  2015.0  PARTICULAR    SUL             0.0             0.0   \n",
       "\n",
       "     EFABAND9ANOS3S  EFABAND9ANOS4S  EFABAND9ANOS5S  EFABAND9ANOS6S  \\\n",
       "290             0.0             0.0             0.0             0.0   \n",
       "435             0.0             0.0             0.0             0.0   \n",
       "383             0.0             0.0             0.0             0.0   \n",
       "384             0.0             0.0             0.0             0.0   \n",
       "385             0.0             0.0             0.0             0.0   \n",
       "\n",
       "     EFABAND9ANOS7S  ...  EE_BVIS_PRE  EE_BAUD_PRE  EE_Surdo_Cegueira_PRE  \\\n",
       "290             0.0  ...          0.0          0.0                    0.0   \n",
       "435             0.0  ...          NaN          NaN                    NaN   \n",
       "383             0.0  ...          0.0          0.0                    0.0   \n",
       "384             0.0  ...          NaN          NaN                    NaN   \n",
       "385             0.0  ...          NaN          NaN                    NaN   \n",
       "\n",
       "     EE_FIS_PRE  EE_MUL_PRE  EE_SUP_PRE  EE_Asperger_PRE  EE_Ret_PRE  \\\n",
       "290         0.0         0.0         0.0              0.0         0.0   \n",
       "435         NaN         NaN         NaN              NaN         NaN   \n",
       "383         0.0         0.0         0.0              0.0         0.0   \n",
       "384         NaN         NaN         NaN              NaN         NaN   \n",
       "385         NaN         NaN         NaN              NaN         NaN   \n",
       "\n",
       "     EE_TDI_PRE  TIPO_EE  \n",
       "290         0.0        0  \n",
       "435         NaN        0  \n",
       "383         0.0        0  \n",
       "384         NaN        0  \n",
       "385         NaN        0  \n",
       "\n",
       "[5 rows x 140 columns]"
      ]
     },
     "execution_count": 46,
     "metadata": {},
     "output_type": "execute_result"
    }
   ],
   "source": [
    "X.head()"
   ]
  },
  {
   "cell_type": "code",
   "execution_count": 38,
   "metadata": {},
   "outputs": [],
   "source": [
    "y = data.iloc[:, -1:]"
   ]
  },
  {
   "cell_type": "code",
   "execution_count": null,
   "metadata": {},
   "outputs": [],
   "source": []
  },
  {
   "cell_type": "markdown",
   "metadata": {},
   "source": [
    "temporarily remove categorical data until one-hot-encoding it"
   ]
  },
  {
   "cell_type": "code",
   "execution_count": 47,
   "metadata": {},
   "outputs": [],
   "source": [
    "X.drop(['DEP', 'ZONA', 'EJATOTAL,,', 'TIPOESC', 'TIPO_EE'], axis=1, inplace=True)"
   ]
  },
  {
   "cell_type": "code",
   "execution_count": null,
   "metadata": {},
   "outputs": [],
   "source": []
  },
  {
   "cell_type": "code",
   "execution_count": 48,
   "metadata": {},
   "outputs": [],
   "source": [
    "X_train, X_test, y_train, y_test = train_test_split(X,y,test_size=0.3, random_state=42)"
   ]
  },
  {
   "cell_type": "markdown",
   "metadata": {},
   "source": [
    "## build pipeline with preprocessing steps\n",
    "Preprocessing steps:\n",
    "* StandardScaler will standardize data\n",
    "* Imputer will deal with missing data\n",
    "\n",
    "gridsearchcv works great with pipeline. So we are going to use it to find the best parameters."
   ]
  },
  {
   "cell_type": "markdown",
   "metadata": {},
   "source": [
    "We will start prediction with SVM as our baseline"
   ]
  },
  {
   "cell_type": "code",
   "execution_count": 94,
   "metadata": {},
   "outputs": [],
   "source": [
    "from sklearn.svm import SVC"
   ]
  },
  {
   "cell_type": "code",
   "execution_count": 149,
   "metadata": {},
   "outputs": [
    {
     "name": "stdout",
     "output_type": "stream",
     "text": [
      "\n",
      "TUNED MODEL PARAMETERS:\n",
      " {'svm__C': 1, 'svm__gamma': 0.01}\n",
      "\n",
      "TUNED ACCURACY:\n",
      " 0.7225325884543762\n",
      "\n",
      "CLASSIFICATION_REPORT:\n",
      "               precision    recall  f1-score   support\n",
      "\n",
      "           1       0.93      0.36      0.52        36\n",
      "           2       0.69      0.99      0.82       151\n",
      "           3       0.00      0.00      0.00        29\n",
      "           4       0.00      0.00      0.00        15\n",
      "\n",
      "    accuracy                           0.71       231\n",
      "   macro avg       0.40      0.34      0.33       231\n",
      "weighted avg       0.60      0.71      0.61       231\n",
      "\n"
     ]
    }
   ],
   "source": [
    "# Setup the pipeline\n",
    "steps = [('imputation', Imputer(strategy='mean', axis=0)),\n",
    "         ('scaler', StandardScaler()),\n",
    "         ('svm', SVC())]\n",
    "\n",
    "pipeline = Pipeline(steps)\n",
    "\n",
    "# Specify the hyperparameter space\n",
    "parameters = {'svm__C':[1, 10, 100],\n",
    "              'svm__gamma':[0.1, 0.01]}\n",
    "\n",
    "# Instantiate the GridSearchCV object: clf_svm\n",
    "clf_svm = GridSearchCV(pipeline,parameters, cv=5)\n",
    "\n",
    "# Fit to the training set\n",
    "clf_svm.fit(X_train, y_train)\n",
    "\n",
    "# Predict the labels of the test set: y_pred\n",
    "y_pred = clf_svm.predict(X_test)\n",
    "\n",
    "# Compute and print metrics\n",
    "print(\"\\nTUNED MODEL PARAMETERS:\\n {}\".format(clf_svm.best_params_))\n",
    "print(\"\\nTUNED ACCURACY:\\n {}\".format(clf_svm.best_score_))\n",
    "print(\"\\nCLASSIFICATION_REPORT:\\n\", classification_report(y_test, y_pred))\n",
    "#print(\"\\nLOG LOSS:\\n\", logloss_svm)\n"
   ]
  },
  {
   "cell_type": "markdown",
   "metadata": {},
   "source": [
    "an alternative for imputation would be to drop rows when missing"
   ]
  },
  {
   "cell_type": "code",
   "execution_count": null,
   "metadata": {},
   "outputs": [],
   "source": [
    "data_nomissing = data.dropna()"
   ]
  },
  {
   "cell_type": "markdown",
   "metadata": {},
   "source": [
    "but in this case we reduce the dataset to just 82 entries. So we won't do that."
   ]
  },
  {
   "cell_type": "code",
   "execution_count": 75,
   "metadata": {},
   "outputs": [
    {
     "name": "stdout",
     "output_type": "stream",
     "text": [
      "<class 'pandas.core.frame.DataFrame'>\n",
      "Int64Index: 82 entries, 290 to 213\n",
      "Columns: 142 entries, CODMEC to y\n",
      "dtypes: float64(135), int64(2), object(5)\n",
      "memory usage: 91.6+ KB\n"
     ]
    }
   ],
   "source": [
    "data_nomissing.info()"
   ]
  },
  {
   "cell_type": "markdown",
   "metadata": {},
   "source": [
    "we could drop columns instead of rows, but there would remain too few features. The code for doing this is:\n",
    "* total = data.isnull().sum().sort_values(ascending=False)\n",
    "* missing_data = pd.concat([total], axis=1, keys=['total'])\n",
    "* data_nomissing = data.drop((missing_data[missing_data['total'] > 1]).index,1)"
   ]
  },
  {
   "cell_type": "markdown",
   "metadata": {},
   "source": [
    "So we are going to test with other ML models, then choose best parameters with crossvalidation, then choose the best model."
   ]
  },
  {
   "cell_type": "markdown",
   "metadata": {},
   "source": [
    "# logistic regression"
   ]
  },
  {
   "cell_type": "code",
   "execution_count": 95,
   "metadata": {},
   "outputs": [],
   "source": [
    "from sklearn.linear_model import LogisticRegression"
   ]
  },
  {
   "cell_type": "code",
   "execution_count": 169,
   "metadata": {},
   "outputs": [
    {
     "name": "stdout",
     "output_type": "stream",
     "text": [
      "\n",
      "TUNED MODEL PARAMETERS:\n",
      " {'logreg__C': 0.4393970560760795, 'logreg__penalty': 'l1'}\n",
      "\n",
      "TUNED ACCURACY:\n",
      " 0.74487895716946\n",
      "\n",
      "CLASSIFICATION_REPORT:\n",
      "               precision    recall  f1-score   support\n",
      "\n",
      "           1       0.75      0.58      0.66        36\n",
      "           2       0.72      0.91      0.81       151\n",
      "           3       0.33      0.03      0.06        29\n",
      "           4       0.56      0.33      0.42        15\n",
      "\n",
      "    accuracy                           0.71       231\n",
      "   macro avg       0.59      0.47      0.49       231\n",
      "weighted avg       0.67      0.71      0.66       231\n",
      "\n"
     ]
    }
   ],
   "source": [
    "# Setup the pipeline\n",
    "steps = [('imputation', Imputer(strategy='median', axis=0)),\n",
    "         ('scaler', StandardScaler()),\n",
    "         ('logreg', LogisticRegression())]\n",
    "\n",
    "pipeline = Pipeline(steps)\n",
    "\n",
    "#LogisticRegression()\n",
    "\n",
    "# Specify the hyperparameter space\n",
    "c_space = np.logspace(-5, 8, 15)\n",
    "parameters = {'logreg__C': c_space, 'logreg__penalty': ['l1', 'l2']}\n",
    "\n",
    "# Instantiate the GridSearchCV object: cv\n",
    "clf_logreg = GridSearchCV(pipeline,parameters, cv=5)\n",
    "\n",
    "# Fit to the training set\n",
    "clf_logreg.fit(X_train, y_train)\n",
    "\n",
    "# Predict the labels of the test set: y_pred\n",
    "y_pred = clf_logreg.predict(X_test)\n",
    "\n",
    "# Using loss function\n",
    "#y_pred_prob = cv.predict_proba(X_test)\n",
    "#logloss_svm = log_loss(y_test,y_pred_prob, labels=[0,1,2,3,4])\n",
    "\n",
    "# Compute and print metrics\n",
    "print(\"\\nTUNED MODEL PARAMETERS:\\n {}\".format(clf_logreg.best_params_))\n",
    "print(\"\\nTUNED ACCURACY:\\n {}\".format(clf_logreg.best_score_))\n",
    "print(\"\\nCLASSIFICATION_REPORT:\\n\", classification_report(y_test, y_pred))"
   ]
  },
  {
   "cell_type": "markdown",
   "metadata": {},
   "source": [
    "# other classifiers"
   ]
  },
  {
   "cell_type": "code",
   "execution_count": 129,
   "metadata": {},
   "outputs": [],
   "source": [
    "from sklearn.ensemble import RandomForestClassifier"
   ]
  },
  {
   "cell_type": "code",
   "execution_count": 150,
   "metadata": {},
   "outputs": [
    {
     "name": "stdout",
     "output_type": "stream",
     "text": [
      "\n",
      "TUNED MODEL PARAMETERS:\n",
      " {'rfc__max_features': 'auto', 'rfc__n_estimators': 300}\n",
      "\n",
      "TUNED ACCURACY:\n",
      " 0.7355679702048417\n"
     ]
    }
   ],
   "source": [
    "# Setup the pipeline\n",
    "steps = [('imputation', Imputer(strategy='median', axis=0)),\n",
    "         ('scaler', StandardScaler()),\n",
    "         ('rfc', RandomForestClassifier())]\n",
    "\n",
    "pipeline = Pipeline(steps)\n",
    "\n",
    "# Specify the hyperparameter space\n",
    "parameters = {'rfc__max_features':[1, 2, \"auto\", \"log2\", None],\n",
    "              'rfc__n_estimators':[300]}\n",
    "\n",
    "# Instantiate the GridSearchCV object: clf_rforest\n",
    "clf_rforest = GridSearchCV(pipeline,parameters, cv=5)\n",
    "\n",
    "# Fit to the training set\n",
    "clf_rforest.fit(X_train, y_train)\n",
    "\n",
    "# Predict the labels of the test set: y_pred\n",
    "y_pred = clf_rforest.predict(X_test)\n",
    "\n",
    "# Compute and print metrics\n",
    "print(\"\\nTUNED MODEL PARAMETERS:\\n {}\".format(clf_rforest.best_params_))\n",
    "print(\"\\nTUNED ACCURACY:\\n {}\".format(clf_rforest.best_score_))"
   ]
  },
  {
   "cell_type": "code",
   "execution_count": 131,
   "metadata": {},
   "outputs": [],
   "source": [
    "from sklearn.ensemble import AdaBoostClassifier"
   ]
  },
  {
   "cell_type": "code",
   "execution_count": 151,
   "metadata": {},
   "outputs": [
    {
     "name": "stdout",
     "output_type": "stream",
     "text": [
      "\n",
      "TUNED MODEL PARAMETERS:\n",
      " {'adaboost__n_estimators': 300}\n",
      "\n",
      "TUNED ACCURACY:\n",
      " 0.5418994413407822\n",
      "\n",
      "CLASSIFICATION_REPORT:\n",
      "               precision    recall  f1-score   support\n",
      "\n",
      "           1       0.31      0.83      0.45        36\n",
      "           2       0.61      0.07      0.13       151\n",
      "           3       0.15      0.59      0.23        29\n",
      "           4       0.00      0.00      0.00        15\n",
      "\n",
      "    accuracy                           0.25       231\n",
      "   macro avg       0.27      0.37      0.20       231\n",
      "weighted avg       0.47      0.25      0.19       231\n",
      "\n"
     ]
    }
   ],
   "source": [
    "# Setup the pipeline\n",
    "steps = [('imputation', Imputer(strategy='median', axis=0)),\n",
    "         ('scaler', StandardScaler()),\n",
    "         ('adaboost', AdaBoostClassifier())]\n",
    "\n",
    "pipeline = Pipeline(steps)\n",
    "\n",
    "# Specify the hyperparameter space\n",
    "parameters = {'adaboost__n_estimators':[300]}\n",
    "\n",
    "# Instantiate the GridSearchCV object: clf_adaboost\n",
    "clf_adaboost = GridSearchCV(pipeline,parameters, cv=5)\n",
    "\n",
    "# Fit to the training set\n",
    "clf_adaboost.fit(X_train, y_train)\n",
    "\n",
    "# Predict the labels of the test set: y_pred\n",
    "y_pred = clf_adaboost.predict(X_test)\n",
    "\n",
    "# Compute and print metrics\n",
    "print(\"\\nTUNED MODEL PARAMETERS:\\n {}\".format(clf_adaboost.best_params_))\n",
    "print(\"\\nTUNED ACCURACY:\\n {}\".format(clf_adaboost.best_score_))\n",
    "print(\"\\nCLASSIFICATION_REPORT:\\n\", classification_report(y_test, y_pred))"
   ]
  },
  {
   "cell_type": "code",
   "execution_count": 136,
   "metadata": {},
   "outputs": [],
   "source": [
    "from sklearn.ensemble import GradientBoostingClassifier"
   ]
  },
  {
   "cell_type": "code",
   "execution_count": 152,
   "metadata": {},
   "outputs": [
    {
     "name": "stdout",
     "output_type": "stream",
     "text": [
      "\n",
      "TUNED MODEL PARAMETERS:\n",
      " {'gbc__loss': 'deviance', 'gbc__max_features': 2, 'gbc__n_estimators': 300}\n",
      "\n",
      "TUNED ACCURACY:\n",
      " 0.7392923649906891\n"
     ]
    }
   ],
   "source": [
    "# Setup the pipeline\n",
    "steps = [('imputation', Imputer(strategy='median', axis=0)),\n",
    "         ('scaler', StandardScaler()),\n",
    "         ('gbc', GradientBoostingClassifier())]\n",
    "\n",
    "pipeline = Pipeline(steps)\n",
    " \n",
    "# Specify the hyperparameter space\n",
    "parameters = {'gbc__max_features':[1, 2, \"auto\", \"log2\", None],\n",
    "              'gbc__n_estimators':[300],\n",
    "              'gbc__loss':['deviance']}\n",
    "\n",
    "# Instantiate the GridSearchCV object: clf_gbc\n",
    "clf_gbc = GridSearchCV(pipeline,parameters, cv=5)\n",
    "\n",
    "# Fit to the training set\n",
    "clf_gbc.fit(X_train, y_train)\n",
    "\n",
    "# Predict the labels of the test set: y_pred\n",
    "y_pred = clf_gbc.predict(X_test)\n",
    "\n",
    "# Compute and print metrics\n",
    "print(\"\\nTUNED MODEL PARAMETERS:\\n {}\".format(clf_gbc.best_params_))\n",
    "print(\"\\nTUNED ACCURACY:\\n {}\".format(clf_gbc.best_score_))"
   ]
  },
  {
   "cell_type": "code",
   "execution_count": 141,
   "metadata": {},
   "outputs": [],
   "source": [
    "from sklearn.neighbors import KNeighborsClassifier"
   ]
  },
  {
   "cell_type": "code",
   "execution_count": 153,
   "metadata": {},
   "outputs": [
    {
     "name": "stdout",
     "output_type": "stream",
     "text": [
      "\n",
      "TUNED MODEL PARAMETERS:\n",
      " {'knn__algorithm': 'auto', 'knn__n_neighbors': 10, 'knn__weights': 'uniform'}\n",
      "\n",
      "TUNED ACCURACY:\n",
      " 0.7355679702048417\n"
     ]
    }
   ],
   "source": [
    "# Setup the pipeline\n",
    "steps = [('imputation', Imputer(strategy='median', axis=0)),\n",
    "         ('scaler', StandardScaler()),\n",
    "         ('knn', KNeighborsClassifier())]\n",
    "\n",
    "pipeline = Pipeline(steps)\n",
    " \n",
    "# Specify the hyperparameter space\n",
    "parameters = {'knn__n_neighbors':[1, 3, 5, 10, 15, 20, 50],\n",
    "              'knn__weights':['uniform', 'distance'],\n",
    "              'knn__algorithm':['auto']}\n",
    "\n",
    "# Instantiate the GridSearchCV object: clf_knn\n",
    "clf_knn = GridSearchCV(pipeline,parameters, cv=5)\n",
    "\n",
    "# Fit to the training set\n",
    "clf_knn.fit(X_train, y_train)\n",
    "\n",
    "# Predict the labels of the test set: y_pred\n",
    "y_pred = clf_knn.predict(X_test)\n",
    "\n",
    "# Compute and print metrics\n",
    "print(\"\\nTUNED MODEL PARAMETERS:\\n {}\".format(clf_knn.best_params_))\n",
    "print(\"\\nTUNED ACCURACY:\\n {}\".format(clf_knn.best_score_))"
   ]
  },
  {
   "cell_type": "markdown",
   "metadata": {},
   "source": [
    "# Plot results"
   ]
  },
  {
   "cell_type": "code",
   "execution_count": 168,
   "metadata": {},
   "outputs": [
    {
     "data": {
      "image/png": "[encoded data removed]",
      "text/plain": [
       "<Figure size 1152x720 with 1 Axes>"
      ]
     },
     "metadata": {
      "needs_background": "light"
     },
     "output_type": "display_data"
    }
   ],
   "source": [
    "dic_results = {'SVM': 1,\n",
    "               'RandomForest': 2,\n",
    "               'DecisionTree': 3,\n",
    "               'ExtraTree': 4,\n",
    "               'AdaBoost': 5,\n",
    "               'GradBoost': 6,\n",
    "              }\n",
    "\n",
    "import operator\n",
    "tup_results = sorted(dic_results.items(), key=operator.itemgetter(1))\n",
    "\n",
    "N = len(dic_results)\n",
    "ind = np.arange(N)  # the x locations for the groups\n",
    "width = 0.40       # the width of the bars\n",
    "\n",
    "fig = plt.figure(figsize=(16,10))\n",
    "ax = fig.add_subplot(111)\n",
    "rects = ax.bar(ind+0.5, list(zip(*tup_results))[1], width,)\n",
    "for rect in rects:\n",
    "    height = rect.get_height()\n",
    "    ax.text(rect.get_x()+rect.get_width()/2., \n",
    "            1.005*height, \n",
    "            '{0:.4f}'.format(height), \n",
    "            ha='center', \n",
    "            va='bottom',)\n",
    "\n",
    "ax.set_ylabel('Scores')\n",
    "ax.set_ylim(ymin=0.65,ymax = 0.85)\n",
    "ax.set_title(\"Classificators' performance\")\n",
    "ax.set_xticks(ind + width/2.)\n",
    "ax.set_xticklabels(list(zip(*tup_results))[0], rotation=45)\n",
    "\n",
    "plt.show()"
   ]
  },
  {
   "cell_type": "markdown",
   "metadata": {},
   "source": [
    "# Voting classifier\n",
    "not worked yet. might not be used"
   ]
  },
  {
   "cell_type": "code",
   "execution_count": null,
   "metadata": {},
   "outputs": [],
   "source": [
    "from sklearn.ensemble import VotingClassifier "
   ]
  },
  {
   "cell_type": "code",
   "execution_count": null,
   "metadata": {},
   "outputs": [],
   "source": [
    "ensemble = VotingClassifier(estimators=[('clf_svm', clf_svm),\n",
    "                                        ('clf_rforest', clf_rforest),\n",
    "                                        ('clf_adaboost', clf_adaboost),\n",
    "                                        ('clf_gbc', clf_gbc),\n",
    "                                        ('clf_knn', clf_knn),\n",
    "                                        ],\n",
    "                            voting='soft',\n",
    "                            weights=[2,2,1,6,2]).fit(X_train, y_train)\n",
    "\n",
    "y_pred = ensemble.predict(X_test)\n",
    "#roc_ens = clf_eval(ensemble, X_testcv, y_testcv)"
   ]
  },
  {
   "cell_type": "code",
   "execution_count": null,
   "metadata": {},
   "outputs": [],
   "source": [
    "ensemble.score()"
   ]
  },
  {
   "cell_type": "markdown",
   "metadata": {},
   "source": [
    "# feature selection with lasso\n",
    "not worked yet. might not be used"
   ]
  },
  {
   "cell_type": "code",
   "execution_count": null,
   "metadata": {},
   "outputs": [],
   "source": [
    "# Import Lasso\n",
    "from sklearn.linear_model import Lasso\n",
    "\n",
    "# Instantiate a lasso regressor: lasso\n",
    "lasso = Lasso(alpha=0.4, normalize=True)\n",
    "\n",
    "# Fit the regressor to the data\n",
    "lasso.fit(X, y)\n",
    "\n",
    "# Compute and print the coefficients\n",
    "lasso_coef = lasso.coef_ \n",
    "print(lasso_coef)\n",
    "\n",
    "# Plot the coefficients\n",
    "plt.plot(range(len(lasso_coef)), lasso_coef)\n",
    "plt.xticks(range(len(X)), ['var 0','var 1','var 2'], rotation=60)\n",
    "plt.margins(0.02)\n",
    "plt.show()\n"
   ]
  }
 ],
 "metadata": {
  "kernelspec": {
   "display_name": "Python 3",
   "language": "python",
   "name": "python3"
  },
  "language_info": {
   "codemirror_mode": {
    "name": "ipython",
    "version": 3
   },
   "file_extension": ".py",
   "mimetype": "text/x-python",
   "name": "python",
   "nbconvert_exporter": "python",
   "pygments_lexer": "ipython3",
   "version": "3.7.1"
  }
 },
 "nbformat": 4,
 "nbformat_minor": 2
}
